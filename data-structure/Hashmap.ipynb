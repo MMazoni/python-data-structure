{
  "nbformat": 4,
  "nbformat_minor": 0,
  "metadata": {
    "colab": {
      "name": "Hashmap.ipynb",
      "provenance": []
    },
    "kernelspec": {
      "name": "python3",
      "display_name": "Python 3"
    },
    "language_info": {
      "name": "python"
    }
  },
  "cells": [
    {
      "cell_type": "markdown",
      "metadata": {
        "id": "V6jof7biTYzN"
      },
      "source": [
        "# Hashmap\n",
        "\n",
        "O hashmap associa chave a valores, fazendo com que a sua busca seja O(1). É chamado de hashmap, pois suas chaves são mapeadas por um hash (código). Os códigos hash não são únicos, pode ocorrer uma colisão. Em python hashmaps ou hashtable são implementados nativamente com o nome de `dictionary`:\n",
        "\n",
        "```python\n",
        "test = {}\n",
        "```"
      ]
    },
    {
      "cell_type": "markdown",
      "metadata": {
        "id": "qG_OQy6UenkY"
      },
      "source": [
        "**Quando usar**:\n",
        "\n",
        "- É interessante quando não exite uso de indice e quando o dado é necessário ser identificado usando chave e valor"
      ]
    },
    {
      "cell_type": "code",
      "metadata": {
        "colab": {
          "base_uri": "https://localhost:8080/"
        },
        "id": "0J1HVPzxOwct",
        "outputId": "0996dca3-922b-4c47-f4f6-4ffec9c35bf0"
      },
      "source": [
        "hash('key')"
      ],
      "execution_count": 2,
      "outputs": [
        {
          "output_type": "execute_result",
          "data": {
            "text/plain": [
              "-7501313906853223418"
            ]
          },
          "metadata": {},
          "execution_count": 2
        }
      ]
    },
    {
      "cell_type": "code",
      "metadata": {
        "colab": {
          "base_uri": "https://localhost:8080/"
        },
        "id": "ENu4QUKoTXna",
        "outputId": "b6419217-2353-4950-93a6-5cc6466e9755"
      },
      "source": [
        "# as chaves podem ser qualquer valor que pode ser hasheado\n",
        "test = {'key': 10}\n",
        "test['key']"
      ],
      "execution_count": 11,
      "outputs": [
        {
          "output_type": "execute_result",
          "data": {
            "text/plain": [
              "10"
            ]
          },
          "metadata": {},
          "execution_count": 11
        }
      ]
    },
    {
      "cell_type": "code",
      "metadata": {
        "colab": {
          "base_uri": "https://localhost:8080/"
        },
        "id": "aM6u-sS6WThP",
        "outputId": "73f34bb1-89c3-4c1c-eb31-5d85f9ef08cf"
      },
      "source": [
        "test['key'] = 20\n",
        "test"
      ],
      "execution_count": 13,
      "outputs": [
        {
          "output_type": "execute_result",
          "data": {
            "text/plain": [
              "{'key': 20}"
            ]
          },
          "metadata": {},
          "execution_count": 13
        }
      ]
    },
    {
      "cell_type": "code",
      "metadata": {
        "colab": {
          "base_uri": "https://localhost:8080/"
        },
        "id": "j3rxsB6yW6yC",
        "outputId": "feeb2b71-4efc-463b-f3e7-afd07a12cecc"
      },
      "source": [
        "d = {3: 'd', 2: 'c', 1: 'b', 0: 'a'}\n",
        "d.items() # retorna lista de tuplas de chaves e valores"
      ],
      "execution_count": 36,
      "outputs": [
        {
          "output_type": "execute_result",
          "data": {
            "text/plain": [
              "dict_items([(3, 'd'), (2, 'c'), (1, 'b'), (0, 'a')])"
            ]
          },
          "metadata": {},
          "execution_count": 36
        }
      ]
    },
    {
      "cell_type": "code",
      "metadata": {
        "colab": {
          "base_uri": "https://localhost:8080/"
        },
        "id": "7er2fqJ_Zy7h",
        "outputId": "3c3b7946-08f2-4b79-bd6e-769baf55c617"
      },
      "source": [
        "# Retorna lista das chaves\n",
        "d.keys()"
      ],
      "execution_count": 37,
      "outputs": [
        {
          "output_type": "execute_result",
          "data": {
            "text/plain": [
              "dict_keys([3, 2, 1, 0])"
            ]
          },
          "metadata": {},
          "execution_count": 37
        }
      ]
    },
    {
      "cell_type": "code",
      "metadata": {
        "colab": {
          "base_uri": "https://localhost:8080/"
        },
        "id": "EM_JRmXYa5dD",
        "outputId": "1931965d-8b3f-4ade-fa53-b972acc3c22a"
      },
      "source": [
        "# Retorna lista dos valores\n",
        "d.values()"
      ],
      "execution_count": 38,
      "outputs": [
        {
          "output_type": "execute_result",
          "data": {
            "text/plain": [
              "dict_values(['d', 'c', 'b', 'a'])"
            ]
          },
          "metadata": {},
          "execution_count": 38
        }
      ]
    },
    {
      "cell_type": "code",
      "metadata": {
        "colab": {
          "base_uri": "https://localhost:8080/"
        },
        "id": "OVEJshm_ba_Z",
        "outputId": "59a29e2a-1c8c-48f4-cbe7-73a2a3b7dc27"
      },
      "source": [
        "# Remove pela chave\n",
        "print(d.pop(1))\n",
        "d"
      ],
      "execution_count": 39,
      "outputs": [
        {
          "output_type": "stream",
          "name": "stdout",
          "text": [
            "b\n"
          ]
        },
        {
          "output_type": "execute_result",
          "data": {
            "text/plain": [
              "{0: 'a', 2: 'c', 3: 'd'}"
            ]
          },
          "metadata": {},
          "execution_count": 39
        }
      ]
    },
    {
      "cell_type": "code",
      "metadata": {
        "colab": {
          "base_uri": "https://localhost:8080/"
        },
        "id": "FmMp6Ethb6Ca",
        "outputId": "b8d19f57-f530-403e-ef90-e526030a0e5a"
      },
      "source": [
        "# Remove o último\n",
        "d.popitem()"
      ],
      "execution_count": 40,
      "outputs": [
        {
          "output_type": "execute_result",
          "data": {
            "text/plain": [
              "(0, 'a')"
            ]
          },
          "metadata": {},
          "execution_count": 40
        }
      ]
    },
    {
      "cell_type": "code",
      "metadata": {
        "colab": {
          "base_uri": "https://localhost:8080/"
        },
        "id": "QBohWHyrb-7B",
        "outputId": "865124a0-029f-4db6-aa6c-ab48121c7d65"
      },
      "source": [
        "# Esvazia\n",
        "d.clear()\n",
        "d"
      ],
      "execution_count": 42,
      "outputs": [
        {
          "output_type": "execute_result",
          "data": {
            "text/plain": [
              "{}"
            ]
          },
          "metadata": {},
          "execution_count": 42
        }
      ]
    },
    {
      "cell_type": "code",
      "metadata": {
        "colab": {
          "base_uri": "https://localhost:8080/"
        },
        "id": "Vx7kIVwecwdp",
        "outputId": "fdba6694-6f27-48f7-e02f-1278aba6c78e"
      },
      "source": [
        "d1 = {'a': 10, 'b': 20, 'c': 30}\n",
        "d2 = {'b': 200, 'd': 400}\n",
        "\n",
        "# Mergeia um dicionário em outro \n",
        "# - se não existe a key, ele adiciona \n",
        "# - se existe, ele faz o update do valor\n",
        "\n",
        "d1.update(d2)\n",
        "d1"
      ],
      "execution_count": 43,
      "outputs": [
        {
          "output_type": "execute_result",
          "data": {
            "text/plain": [
              "{'a': 10, 'b': 200, 'c': 30, 'd': 400}"
            ]
          },
          "metadata": {},
          "execution_count": 43
        }
      ]
    },
    {
      "cell_type": "code",
      "metadata": {
        "colab": {
          "base_uri": "https://localhost:8080/",
          "height": 35
        },
        "id": "dt4XC_zBX88x",
        "outputId": "4ed2afb9-1858-4896-d34f-26e67cd096cc"
      },
      "source": [
        "tuplas_dict = {(1, 1): 'a', (1, 2): 'b', (2, 1): 'c', (2, 2): 'd'}\n",
        "tuplas_dict[(1,1)]"
      ],
      "execution_count": 17,
      "outputs": [
        {
          "output_type": "execute_result",
          "data": {
            "application/vnd.google.colaboratory.intrinsic+json": {
              "type": "string"
            },
            "text/plain": [
              "'a'"
            ]
          },
          "metadata": {},
          "execution_count": 17
        }
      ]
    }
  ]
}