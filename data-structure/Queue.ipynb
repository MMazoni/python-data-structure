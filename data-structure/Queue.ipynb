{
  "nbformat": 4,
  "nbformat_minor": 0,
  "metadata": {
    "colab": {
      "name": "Queue.ipynb",
      "provenance": []
    },
    "kernelspec": {
      "name": "python3",
      "display_name": "Python 3"
    },
    "language_info": {
      "name": "python"
    }
  },
  "cells": [
    {
      "cell_type": "markdown",
      "metadata": {
        "id": "-Tp0wnsXhMJU"
      },
      "source": [
        "# Queue\n",
        "\n",
        "É uma estrutura de dados linear que segue o FIFO (First In First Out), então como ocorre nas filas da vida real, o primeiro que entra na fila, será o primeiro a sair."
      ]
    },
    {
      "cell_type": "markdown",
      "metadata": {
        "id": "P8FPduphiLXF"
      },
      "source": [
        "**Quando usar**:\n",
        "\n",
        "- Quando não é necessário processar o dado no momento, mas quando for preciso será FIFO.\n",
        "- Servindo requests em um recurso compartilhado único, como uma impressora, tarefas de agendamento de CPU.\n"
      ]
    },
    {
      "cell_type": "markdown",
      "metadata": {
        "id": "n5Di4fv3mA_Z"
      },
      "source": [
        "![image.png](data:image/png;base64,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)"
      ]
    },
    {
      "cell_type": "code",
      "metadata": {
        "colab": {
          "base_uri": "https://localhost:8080/"
        },
        "id": "VxyHk54Ql-rj",
        "outputId": "253dbbfa-a377-4fa4-fb49-27b17dd1eddc"
      },
      "source": [
        "from collections import deque\n",
        "\n",
        "q = deque()\n",
        "q"
      ],
      "execution_count": 2,
      "outputs": [
        {
          "output_type": "execute_result",
          "data": {
            "text/plain": [
              "deque([])"
            ]
          },
          "metadata": {},
          "execution_count": 2
        }
      ]
    },
    {
      "cell_type": "code",
      "metadata": {
        "colab": {
          "base_uri": "https://localhost:8080/"
        },
        "id": "S_YcVSuNojiQ",
        "outputId": "8866baab-73b6-4cbc-9c5f-28dbb367f848"
      },
      "source": [
        "q.append('a')\n",
        "q.append('b')\n",
        "q.append('c')\n",
        "q"
      ],
      "execution_count": 3,
      "outputs": [
        {
          "output_type": "execute_result",
          "data": {
            "text/plain": [
              "deque(['a', 'b', 'c'])"
            ]
          },
          "metadata": {},
          "execution_count": 3
        }
      ]
    },
    {
      "cell_type": "code",
      "metadata": {
        "colab": {
          "base_uri": "https://localhost:8080/"
        },
        "id": "0wo9O5c6ok99",
        "outputId": "4b9fc152-9808-4618-b08a-ef54877f7b5f"
      },
      "source": [
        "q.popleft()\n",
        "q"
      ],
      "execution_count": 4,
      "outputs": [
        {
          "output_type": "execute_result",
          "data": {
            "text/plain": [
              "deque(['b', 'c'])"
            ]
          },
          "metadata": {},
          "execution_count": 4
        }
      ]
    },
    {
      "cell_type": "code",
      "metadata": {
        "colab": {
          "base_uri": "https://localhost:8080/"
        },
        "id": "z2Rc4co5pT1z",
        "outputId": "9a9499f4-fdd2-4e82-bfda-fd85ab7f969b"
      },
      "source": [
        "q.clear()\n",
        "q"
      ],
      "execution_count": 6,
      "outputs": [
        {
          "output_type": "execute_result",
          "data": {
            "text/plain": [
              "deque([])"
            ]
          },
          "metadata": {},
          "execution_count": 6
        }
      ]
    },
    {
      "cell_type": "code",
      "metadata": {
        "colab": {
          "base_uri": "https://localhost:8080/"
        },
        "id": "aGEtXgCuppN8",
        "outputId": "cc122c04-96bf-4d2e-e071-46bafc44ba18"
      },
      "source": [
        "q.append(1)\n",
        "q.append(2)\n",
        "q.append(3)\n",
        "q.reverse()\n",
        "q"
      ],
      "execution_count": 8,
      "outputs": [
        {
          "output_type": "execute_result",
          "data": {
            "text/plain": [
              "deque([3, 2, 1, 1, 2, 3])"
            ]
          },
          "metadata": {},
          "execution_count": 8
        }
      ]
    }
  ]
}