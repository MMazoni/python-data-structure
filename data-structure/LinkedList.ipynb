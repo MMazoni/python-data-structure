{
  "nbformat": 4,
  "nbformat_minor": 0,
  "metadata": {
    "colab": {
      "name": "LinkedList.ipynb",
      "provenance": [],
      "collapsed_sections": []
    },
    "kernelspec": {
      "name": "python3",
      "display_name": "Python 3"
    },
    "language_info": {
      "name": "python"
    }
  },
  "cells": [
    {
      "cell_type": "markdown",
      "metadata": {
        "id": "8L0_HtLre7O4"
      },
      "source": [
        "# Linked List\n",
        "\n",
        "É uma estrutura linear onde os elementos não estão alocados numa parte contínua da memória. Cada elemento fica em um nó, onde aponta para outro nó e assim por diante. O primeiro nó é chamado de `head`."
      ]
    },
    {
      "cell_type": "markdown",
      "metadata": {
        "id": "_iGrrUxTil13"
      },
      "source": [
        "**Quando utilizar?**\n",
        "\n",
        "- Inserir/deleta com tempo constante\n",
        "- Quando não se sabe quantos itens terá na lista\n",
        "- Você não precisa acessar aleatoriamente nenhum elemento\n",
        "- Inserir itens no meio da lista"
      ]
    },
    {
      "cell_type": "markdown",
      "metadata": {
        "id": "24Ees-ksg8Ui"
      },
      "source": [
        "![image.png](data:image/png;base64,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)"
      ]
    },
    {
      "cell_type": "markdown",
      "metadata": {
        "id": "dmJGrQnZlC4n"
      },
      "source": [
        "## Implementações"
      ]
    },
    {
      "cell_type": "markdown",
      "metadata": {
        "id": "qLHLR2msomvj"
      },
      "source": [
        "### Linked List"
      ]
    },
    {
      "cell_type": "code",
      "metadata": {
        "id": "Jz-bsgNcRv3v"
      },
      "source": [
        "class Node:\n",
        "    def __init__(self, value):\n",
        "        self.next = None\n",
        "        self.value = value"
      ],
      "execution_count": 1,
      "outputs": []
    },
    {
      "cell_type": "code",
      "metadata": {
        "id": "N-9PgQXdSJRl"
      },
      "source": [
        "class LinkedList:\n",
        "    def __init__(self):\n",
        "        self._head = Node(None)\n",
        "        self._tail = None\n",
        "\n",
        "    def insert_node_to_tail(self, node):\n",
        "        self.tail().next = node\n",
        "\n",
        "    def insert_node_to_head(self, node):\n",
        "        if self.head():\n",
        "            head = self._head\n",
        "            node.next, head.next = self._head.next, node\n",
        "            return\n",
        "        self._head.next = node\n",
        "\n",
        "    def is_empty(self):\n",
        "        return self._head.next is None\n",
        "\n",
        "    def head(self):\n",
        "        return self._head.next\n",
        "\n",
        "    def tail(self):\n",
        "        current = self._head\n",
        "        while current.next:\n",
        "            current = current.next\n",
        "        return current"
      ],
      "execution_count": 2,
      "outputs": []
    },
    {
      "cell_type": "code",
      "metadata": {
        "id": "kGJxp9BhgCRt",
        "colab": {
          "base_uri": "https://localhost:8080/"
        },
        "outputId": "e7f9dcdc-8339-44a4-d8b2-13b6f461a1b1"
      },
      "source": [
        "import unittest\n",
        "\n",
        "class LinkedListTests(unittest.TestCase):\n",
        "    def setUp(self):\n",
        "        self.linked_list = LinkedList()\n",
        "\n",
        "    def test_insert_first_node_to_tail(self):\n",
        "        self.linked_list.insert_node_to_tail(Node('tail'))\n",
        "        self.assertEqual('tail', self.linked_list.tail().value)\n",
        "\n",
        "    def test_insert_first_node_to_head(self):\n",
        "        self.linked_list.insert_node_to_head(Node('head'))\n",
        "        self.assertEqual('head', self.linked_list.head().value)\n",
        "\n",
        "    def test_insert_two_nodes_to_head(self):\n",
        "        self.linked_list.insert_node_to_head(Node('head2'))\n",
        "        self.linked_list.insert_node_to_head(Node('head1'))\n",
        "        self.assertEqual('head1', self.linked_list.head().value)\n",
        "\n",
        "    def test_insert_two_nodes_to_tail(self):\n",
        "        self.linked_list.insert_node_to_tail(Node('tail2'))\n",
        "        self.linked_list.insert_node_to_tail(Node('tail1'))\n",
        "        self.assertEqual('tail1', self.linked_list.tail().value)\n",
        "\n",
        "    def test_insert_nodes_to_head_and_tail(self):\n",
        "        self.linked_list.insert_node_to_head(Node('head'))\n",
        "        self.linked_list.insert_node_to_tail(Node('tail'))\n",
        "        self.assertEqual('head', self.linked_list.head().value)\n",
        "        self.assertEqual('tail', self.linked_list.tail().value)\n",
        "\n",
        "    def test_is_empty_with_empty_linked_list(self):\n",
        "        self.assertTrue(self.linked_list.is_empty())\n",
        "\n",
        "    def test_is_empty_with_two_nodes(self):\n",
        "        self.linked_list.insert_node_to_head(Node('element1'))\n",
        "        self.linked_list.insert_node_to_head(Node('element2'))\n",
        "        self.assertFalse(self.linked_list.is_empty())\n",
        "\n",
        "unittest.main(argv=['first-arg-is-ignored'], exit=False)"
      ],
      "execution_count": 3,
      "outputs": [
        {
          "output_type": "stream",
          "name": "stderr",
          "text": [
            ".......\n",
            "----------------------------------------------------------------------\n",
            "Ran 7 tests in 0.025s\n",
            "\n",
            "OK\n"
          ]
        },
        {
          "output_type": "execute_result",
          "data": {
            "text/plain": [
              "<unittest.main.TestProgram at 0x7fb63d30ced0>"
            ]
          },
          "metadata": {},
          "execution_count": 3
        }
      ]
    },
    {
      "cell_type": "markdown",
      "metadata": {
        "id": "mnTL0FgYosye"
      },
      "source": [
        "### Doubly Linked List\n",
        "\n",
        "O DLL possui um ponteiro a mais para o nó anterior.\n",
        "\n",
        "**Vantagens**\n",
        "\n",
        "- Uma DLL pode ser percorrida tanto na direção para frente quanto para trás\n",
        "- A operação de exclusão na DLL é mais eficiente se o ponteiro para o nó a ser excluído for fornecido.\n",
        "- Podemos inserir rapidamente um novo nó antes de um determinado nó.\n",
        "\n",
        "**Desvantagens**\n",
        "\n",
        "- Cada nó da DLL requer espaço extra para um ponteiro anterior. É possível implementar DLL com um único ponteiro embora (veja isto e isto).\n",
        "- Todas as operações requerem um ponteiro extra anterior para serem mantidas. Por exemplo, na inserção, precisamos modificar os ponteiros anteriores junto com os próximos ponteiros."
      ]
    },
    {
      "cell_type": "markdown",
      "metadata": {
        "id": "hzv4eH3NLASt"
      },
      "source": [
        "![image.png](data:image/png;base64,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)"
      ]
    },
    {
      "cell_type": "code",
      "metadata": {
        "id": "PQv4EGvzoxLr"
      },
      "source": [
        "class DoublyNode:\n",
        "    def __init__(self, value):\n",
        "        self.next = None\n",
        "        self.prev = None\n",
        "        self.value = value\n",
        "\n",
        "\n",
        "class DoublyLinkedList:\n",
        "    def __init__(self):\n",
        "        self.head = None\n",
        "        self.tail = None\n",
        "\n",
        "\n",
        "    def insert_node_to_head(self, new_node):\n",
        "        if new_node is None: return False\n",
        "\n",
        "        new_node.next, new_node.prev = self.head, None\n",
        "\n",
        "        if self.head is not None:\n",
        "            self.head.prev = new_node\n",
        "        \n",
        "        self.head = new_node\n",
        "        return new_node.value\n",
        "\n",
        "    \n",
        "    def insert_node_to_tail(self, new_node):\n",
        "        if new_node is None: return False\n",
        "\n",
        "        new_node.prev, new_node.next = self.tail, None\n",
        "\n",
        "        if self.tail is not None:\n",
        "            self.tail.next = new_node\n",
        "\n",
        "        self.tail = new_node\n",
        "        return new_node.value\n",
        "\n",
        "\n",
        "    def insert_node_after_node(self, prev_node, new_node):\n",
        "        if prev_node is None or new_node is None:\n",
        "            return False\n",
        "\n",
        "        new_node.next, prev_node.next = prev_node.next, new_node\n",
        "        new_node.prev = prev_node\n",
        "\n",
        "        if new_node.next is not None:\n",
        "            new_node.next.prev = new_node\n",
        "\n",
        "        return new_node.value\n",
        "\n",
        "    def insert_node_before_node(self, next_node, new_node):\n",
        "        if next_node is None or new_node is None:\n",
        "            return False\n",
        "\n",
        "        new_node.next = next_node\n",
        "\n",
        "        if next_node.prev is not None:\n",
        "            next_node.prev.next = new_node\n",
        "\n",
        "        new_node.prev = next_node.prev\n",
        "        next_node.prev = new_node \n",
        "        return new_node.value\n"
      ],
      "execution_count": 4,
      "outputs": []
    },
    {
      "cell_type": "markdown",
      "metadata": {
        "id": "uA3KbEbopFQy"
      },
      "source": [
        "### Circular Linked List"
      ]
    },
    {
      "cell_type": "code",
      "metadata": {
        "id": "NdVxtJwupDFd"
      },
      "source": [
        ""
      ],
      "execution_count": null,
      "outputs": []
    }
  ]
}