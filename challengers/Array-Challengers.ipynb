{
  "nbformat": 4,
  "nbformat_minor": 0,
  "metadata": {
    "colab": {
      "name": "Array-Challengers.ipynb",
      "provenance": [],
      "collapsed_sections": [
        "CoLOBXutPiMo",
        "2qWnCDigPemF",
        "4NW7tBro2oex",
        "VGFinNROjnkL",
        "wxLe6DDdPmBo"
      ]
    },
    "kernelspec": {
      "name": "python3",
      "display_name": "Python 3"
    },
    "language_info": {
      "name": "python"
    }
  },
  "cells": [
    {
      "cell_type": "markdown",
      "metadata": {
        "id": "CoLOBXutPiMo"
      },
      "source": [
        "## Two Sum"
      ]
    },
    {
      "cell_type": "markdown",
      "metadata": {
        "id": "FeMtAbf2g2fH"
      },
      "source": [
        "O Two Sum é bastante comum durante entrevistas. Seu objetivo é identificar um par de números que somados batam com o valor da variável target.\n",
        "\n",
        "Ele pode ser escrito em um algoritmo que roda no tempo O(n).\n",
        "\n",
        "### Exemplos\n",
        "Se o array é [4, 1, 2, -2, 11, 15, 1, -1, -6, -4] e o target é 9. Neste caso, seu programa deve retornar:\n",
        "\n",
        "[-2, 11]\n",
        "\n",
        "O motivo é bastante simples:\n",
        "\n",
        "-2 + 11 = 9\n",
        "\n"
      ]
    },
    {
      "cell_type": "code",
      "metadata": {
        "colab": {
          "base_uri": "https://localhost:8080/"
        },
        "id": "WAycsVqFgscW",
        "outputId": "e2975f58-fb4c-49b1-9236-cbed8bd3561a"
      },
      "source": [
        "# O(n)\n",
        "def solution(numbers, target_sum):\n",
        "    for pair in zip(numbers, numbers[1:]):\n",
        "        result = pair[0] + pair[1]\n",
        "        if result == target_sum:\n",
        "            return list(pair)\n",
        "    return []\n",
        "\n",
        "# O(n log n)\n",
        "def solution2(numbers, target_sum):\n",
        "    numbers.sort()\n",
        "\n",
        "    left_pointer = 0\n",
        "    right_pointer = len(numbers) - 1\n",
        "\n",
        "    while left_pointer < right_pointer:\n",
        "        result = numbers[left_pointer] + numbers[right_pointer]\n",
        "        if result == target_sum:\n",
        "            return [numbers[left_pointer], numbers[right_pointer]]\n",
        "        elif result < target_sum:\n",
        "            left_pointer += 1\n",
        "        elif result > target_sum:\n",
        "            right_pointer -= 1\n",
        "    \n",
        "    return []\n",
        "\n",
        "\n",
        "solution([4, 1, 2, -2, 11, 15, 1, -1, -6, -4], 9)\n",
        "solution([1, 2, 3, 4, 5, 6, 7, 8, 9, 0, 10, 12], 99)"
      ],
      "execution_count": null,
      "outputs": [
        {
          "output_type": "execute_result",
          "data": {
            "text/plain": [
              "[]"
            ]
          },
          "metadata": {},
          "execution_count": 5
        }
      ]
    },
    {
      "cell_type": "markdown",
      "metadata": {
        "id": "2qWnCDigPemF"
      },
      "source": [
        "## Three Sum"
      ]
    },
    {
      "cell_type": "markdown",
      "metadata": {
        "id": "4NW7tBro2oex"
      },
      "source": [
        "\n",
        "O Three sum é uma variação do problema Two Sum, caso você ainda não tenha feito ele sugiro que vá primeiro nele e depois volte aqui.\n",
        "\n",
        "A idéia deste problema é identificar todos os três números que quando somados resultem em um valor especificado.\n",
        "\n",
        "### Exemplos\n",
        "Se o array é [12, 3, 1, 2, -6, 5, -8, 6] e o target é 0. Neste caso, seu programa deve retornar:\n",
        "\n",
        "[[-8, 2, 6], [-8, 3, 5], [-6, 1, 5]\n",
        "\n",
        "A soma de todos os valores das listas acima será igual a zero."
      ]
    },
    {
      "cell_type": "code",
      "metadata": {
        "colab": {
          "base_uri": "https://localhost:8080/"
        },
        "id": "Upmf320E2woN",
        "outputId": "09fb5b3f-1100-4b45-aca4-5f72994becbd"
      },
      "source": [
        "def solution(numbers, target_sum):\n",
        "    results = []\n",
        "    numbers.sort()\n",
        "\n",
        "    for i in range(len(numbers)):\n",
        "        left_pointer = i + 1\n",
        "        right_pointer = len(numbers) - 1\n",
        "        while left_pointer < right_pointer:\n",
        "            result = numbers[i] + numbers[left_pointer] + numbers[right_pointer]\n",
        "            if result < target_sum:\n",
        "                left_pointer += 1\n",
        "            elif result > target_sum:\n",
        "                right_pointer -= 1\n",
        "            else:\n",
        "                results.append([numbers[i], numbers[left_pointer], numbers[right_pointer]])\n",
        "            \n",
        "                left_pointer += 1\n",
        "                right_pointer -= 1\n",
        "    \n",
        "    return results\n",
        "\n",
        "solution([12, 3, 1, 2, -6, 5, -8, 6], 0)"
      ],
      "execution_count": null,
      "outputs": [
        {
          "output_type": "execute_result",
          "data": {
            "text/plain": [
              "[[-8, 2, 6], [-8, 3, 5], [-6, 1, 5]]"
            ]
          },
          "metadata": {},
          "execution_count": 2
        }
      ]
    },
    {
      "cell_type": "markdown",
      "metadata": {
        "id": "VGFinNROjnkL"
      },
      "source": [
        "## Decode String"
      ]
    },
    {
      "cell_type": "markdown",
      "metadata": {
        "id": "pOkohQI7jsri"
      },
      "source": [
        "Dada uma string codificada, retorne a string decodificada.\n",
        "\n",
        "A regra de codificação é: k[string_codificada], onde a string_codificada dentro dos colchetes serão repetidas o número de k vezes. O valor de k será sempre um número positivo.\n",
        "\n",
        "Você deve assumir que as strings de entrada são sempre válidas, sem espaço e os colchetes estão bem formatados.\n",
        "Exemplos:\n",
        "\n",
        "s = \"2[a]3[bc]\", retornará \"aabcbcbc\".\n",
        "\n",
        "s = \"3[a2[c]]\", retornará \"accaccacc\".\n",
        "\n",
        "s = \"2[abc]3[cd]ef\", retornará \"abcabccdcdcdef\".\n"
      ]
    },
    {
      "cell_type": "code",
      "metadata": {
        "colab": {
          "base_uri": "https://localhost:8080/"
        },
        "id": "1frlIVawjxoV",
        "outputId": "be9ea49d-370d-4b15-a66d-50dd5b0ddc11"
      },
      "source": [
        "def decode_string(str_to_decode):\n",
        "    stack = []\n",
        "    number = 0\n",
        "    temp_str = ''\n",
        "    for char in str_to_decode:\n",
        "        if char == '[':\n",
        "            if temp_str:\n",
        "                temp_str, stack = append_temp_string(temp_str, stack)\n",
        "            stack.append(number)\n",
        "            number = 0\n",
        "        elif char == ']':\n",
        "            if temp_str:\n",
        "                temp_str, stack = append_temp_string(temp_str, stack)\n",
        "            new_str = ''\n",
        "            first = stack.pop()\n",
        "            while first and type(first) != int:\n",
        "                new_str = first + new_str\n",
        "                first = stack.pop()\n",
        "            new_str *= first\n",
        "            stack.append(new_str)\n",
        "        else:\n",
        "            if char.isdigit():\n",
        "                number = 10 * number + int(char)\n",
        "            else:\n",
        "                temp_str += char\n",
        "\n",
        "    if temp_str:\n",
        "        stack.append(temp_str)\n",
        "    return ''.join(stack)\n",
        "\n",
        "def append_temp_string(temp_str, stack):\n",
        "    stack.append(temp_str)\n",
        "    return '', stack\n",
        "\n",
        "print('aabb' == decode_string('aa2[b]'))\n",
        "print('aabcbcbc' == decode_string('2[a]3[bc]'))\n",
        "print('accaccacc' == decode_string('3[a2[c]]'))\n",
        "print('abcabccdcdcdef' == decode_string('2[abc]3[cd]ef'))\n",
        "print('algomania' == decode_string('algomania'))\n",
        "print('aaabFFFFcbFFFFc' == decode_string('3[a]2[b4[F]c]'))\n",
        "print('zzzyypqjkjkefjkjkefjkjkefjkjkefyypqjkjkefjkjkefjkjkefjkjkefef' == \n",
        "      decode_string('3[z]2[2[y]pq4[2[jk]e1[f]]]ef'))"
      ],
      "execution_count": null,
      "outputs": [
        {
          "output_type": "stream",
          "name": "stdout",
          "text": [
            "True\n",
            "True\n",
            "True\n",
            "True\n",
            "True\n",
            "True\n",
            "True\n"
          ]
        }
      ]
    },
    {
      "cell_type": "markdown",
      "metadata": {
        "id": "wxLe6DDdPmBo"
      },
      "source": [
        "## Merging Meetings"
      ]
    },
    {
      "cell_type": "markdown",
      "metadata": {
        "id": "Pd1U_9ubPrZL"
      },
      "source": [
        " Your company built an in-house calendar tool called HiCal. You want to add a feature to see the times in a day when everyone is available.\n",
        "\n",
        "To do this, you’ll need to know when any team is having a meeting. In HiCal, a meeting is stored as a tuple ↴ of integers (start_time, end_time). These integers represent the number of 30-minute blocks past 9:00am.\n",
        "\n",
        "For example:\n",
        "\n",
        "```\n",
        "  (2, 3)  # Meeting from 10:00 – 10:30 am\n",
        "  (6, 9)  # Meeting from 12:00 – 1:30 pm\n",
        "```\n",
        "\n",
        "Write a function merge_ranges() that takes a list of multiple meeting time ranges and returns a list of condensed ranges.\n",
        "\n",
        "For example, given:\n",
        "```\n",
        "  [(0, 1), (3, 5), (4, 8), (10, 12), (9, 10)]\n",
        "```\n",
        "\n",
        "your function would return:\n",
        "\n",
        "```\n",
        "  [(0, 1), (3, 8), (9, 12)]\n",
        "```\n",
        "\n",
        "Do not assume the meetings are in order. The meeting times are coming from multiple teams.\n",
        "\n",
        "Write a solution that's efficient even when we can't put a nice upper bound on the numbers representing our time ranges. Here we've simplified our times down to the number of 30-minute slots past 9:00 am. But we want the function to work even for very large numbers, like Unix timestamps. In any case, the spirit of the challenge is to merge meetings where start_time and end_time don't have an upper bound. "
      ]
    },
    {
      "cell_type": "code",
      "metadata": {
        "id": "RvUfuR0GP-SK"
      },
      "source": [
        "import unittest\n",
        "\n",
        "\n",
        "def merge_ranges(meetings):\n",
        "    if not meetings:\n",
        "        return []\n",
        "    sorted_meetings = sorted(meetings)\n",
        "    merged_meetings = [sorted_meetings[0]]\n",
        "    for current_meeting_start, current_meeting_end in sorted_meetings[1:]:\n",
        "        last_merged_meeting_start, last_merged_meeting_end = merged_meetings[-1]\n",
        "        \n",
        "        if current_meeting_start <= last_merged_meeting_end:\n",
        "            merged_meetings[-1] = (last_merged_meeting_start,\n",
        "                                    max(last_merged_meeting_end,\n",
        "                                        current_meeting_end))\n",
        "        else:\n",
        "            merged_meetings.append((current_meeting_start, current_meeting_end))\n",
        "        \n",
        "    return merged_meetings\n"
      ],
      "execution_count": null,
      "outputs": []
    },
    {
      "cell_type": "code",
      "metadata": {
        "colab": {
          "base_uri": "https://localhost:8080/"
        },
        "id": "P124jikOQDKo",
        "outputId": "0e7ca074-9494-4a42-dd8d-9398dfdd41e2"
      },
      "source": [
        "class Test(unittest.TestCase):\n",
        "\n",
        "    def test_meetings_overlap(self):\n",
        "        actual = merge_ranges([(1, 3), (2, 4)])\n",
        "        expected = [(1, 4)]\n",
        "        self.assertEqual(actual, expected)\n",
        "\n",
        "    def test_meetings_touch(self):\n",
        "        actual = merge_ranges([(5, 6), (6, 8)])\n",
        "        expected = [(5, 8)]\n",
        "        self.assertEqual(actual, expected)\n",
        "\n",
        "    def test_meeting_contains_other_meeting(self):\n",
        "        actual = merge_ranges([(1, 8), (2, 5)])\n",
        "        expected = [(1, 8)]\n",
        "        self.assertEqual(actual, expected)\n",
        "\n",
        "    def test_meetings_stay_separate(self):\n",
        "        actual = merge_ranges([(1, 3), (4, 8)])\n",
        "        expected = [(1, 3), (4, 8)]\n",
        "        self.assertEqual(actual, expected)\n",
        "\n",
        "    def test_multiple_merged_meetings(self):\n",
        "        actual = merge_ranges([(1, 4), (2, 5), (5, 8)])\n",
        "        expected = [(1, 8)]\n",
        "        self.assertEqual(actual, expected)\n",
        "\n",
        "    def test_meetings_not_sorted(self):\n",
        "        actual = merge_ranges([(5, 8), (1, 4), (6, 8)])\n",
        "        expected = [(1, 4), (5, 8)]\n",
        "        self.assertEqual(actual, expected)\n",
        "\n",
        "    def test_one_long_meeting_contains_smaller_meetings(self):\n",
        "        actual = merge_ranges([(1, 10), (2, 5), (6, 8), (9, 10), (10, 12)])\n",
        "        expected = [(1, 12)]\n",
        "        self.assertEqual(actual, expected)\n",
        "\n",
        "    def test_sample_input(self):\n",
        "        actual = merge_ranges([(0, 1), (3, 5), (4, 8), (10, 12), (9, 10)])\n",
        "        expected = [(0, 1), (3, 8), (9, 12)]\n",
        "        self.assertEqual(actual, expected)\n",
        "\n",
        "\n",
        "unittest.main(argv=['first-arg-is-ignored'], exit=False)\n",
        "print()"
      ],
      "execution_count": null,
      "outputs": [
        {
          "output_type": "stream",
          "name": "stderr",
          "text": [
            "........"
          ]
        },
        {
          "output_type": "stream",
          "name": "stdout",
          "text": [
            "\n"
          ]
        },
        {
          "output_type": "stream",
          "name": "stderr",
          "text": [
            "\n",
            "----------------------------------------------------------------------\n",
            "Ran 8 tests in 0.015s\n",
            "\n",
            "OK\n"
          ]
        }
      ]
    },
    {
      "cell_type": "markdown",
      "metadata": {
        "id": "djhBw8VwmAmH"
      },
      "source": [
        "# Reverse String in Place"
      ]
    },
    {
      "cell_type": "markdown",
      "metadata": {
        "id": "hy4OJFhMmYcm"
      },
      "source": [
        "Write a function that takes a list of characters and reverses the letters in place."
      ]
    },
    {
      "cell_type": "code",
      "metadata": {
        "id": "4WScpWXMmfVM"
      },
      "source": [
        "def reverse(list_of_chars):\n",
        "\n",
        "    # Reverse the input list of chars in place\n",
        "    begin = 0\n",
        "    end = len(list_of_chars) - 1\n",
        "    \n",
        "    while begin < end:\n",
        "        list_of_chars[begin], list_of_chars[end] = \\\n",
        "            list_of_chars[end], list_of_chars[begin]\n",
        "        begin += 1\n",
        "        end -= 1"
      ],
      "execution_count": null,
      "outputs": []
    },
    {
      "cell_type": "markdown",
      "metadata": {
        "id": "i0yKSyQEm2TQ"
      },
      "source": [
        "# Reverse words"
      ]
    },
    {
      "cell_type": "markdown",
      "metadata": {
        "id": "QNRFdcTbm49d"
      },
      "source": [
        "You're working on a secret team solving coded transmissions.\n",
        "\n",
        "Your team is scrambling to decipher a recent message, worried it's a plot to break into a major European National Cake Vault. The message has been mostly deciphered, but all the words are backward! Your colleagues have handed off the last step to you.\n",
        "\n",
        "Write a function reverse_words() that takes a message as a list of characters and reverses the order of the words in place. ↴\n",
        "\n",
        "For example:\n",
        "\n",
        "```\n",
        "message = [ 'c', 'a', 'k', 'e', ' ',\n",
        "            'p', 'o', 'u', 'n', 'd', ' ',\n",
        "            's', 't', 'e', 'a', 'l' ]\n",
        "\n",
        "reverse_words(message)\n",
        "\n",
        "# Prints: 'steal pound cake'\n",
        "print(''.join(message))\n",
        "```\n",
        "\n",
        "When writing your function, assume the message contains only letters and spaces, and all words are separated by one space."
      ]
    },
    {
      "cell_type": "code",
      "metadata": {
        "id": "DplcTJSOnO4G"
      },
      "source": [
        "def reverse_words(message):\n",
        "\n",
        "    reverse_chars(message, 0, len(message)-1)\n",
        "    # Decode the message by reversing the words\n",
        "    current_word_start_index = 0\n",
        "    for i in range(len(message) + 1):\n",
        "        if (i == len(message)) or (message[i] == ' '):\n",
        "            reverse_chars(message, current_word_start_index, i - 1)\n",
        "            current_word_start_index = i + 1  \n",
        "\n",
        "\n",
        "def reverse_chars(message, left_index, right_index):\n",
        "    while left_index < right_index:\n",
        "        # Swap the left char and right char\n",
        "        message[left_index], message[right_index] = \\\n",
        "            message[right_index], message[left_index]\n",
        "        left_index  += 1\n",
        "        right_index -= 1"
      ],
      "execution_count": null,
      "outputs": []
    },
    {
      "cell_type": "markdown",
      "metadata": {
        "id": "NqwkcDMununf"
      },
      "source": [
        "# Merge Sorted Arrays"
      ]
    },
    {
      "cell_type": "markdown",
      "metadata": {
        "id": "yMs80SjXnxkj"
      },
      "source": [
        "In order to win the prize for most cookies sold, my friend Alice and I are going to merge our Girl Scout Cookies orders and enter as one unit.\n",
        "\n",
        "Each order is represented by an \"order id\" (an integer).\n",
        "\n",
        "We have our lists of orders sorted numerically already, in lists. Write a function to merge our lists of orders into one sorted list.\n",
        "\n",
        "For example:\n",
        "\n",
        "```\n",
        "my_list     = [3, 4, 6, 10, 11, 15]\n",
        "alices_list = [1, 5, 8, 12, 14, 19]\n",
        "\n",
        "# Prints [1, 3, 4, 5, 6, 8, 10, 11, 12, 14, 15, 19]\n",
        "print(merge_lists(my_list, alices_list))\n",
        "```"
      ]
    },
    {
      "cell_type": "code",
      "metadata": {
        "id": "J1v8E6rVn6c9"
      },
      "source": [
        "def merge_lists(my_list, alices_list):\n",
        "\n",
        "    # Combine the sorted lists into one large sorted list\n",
        "    merged_list_size = len(my_list) + len(alices_list)\n",
        "    merged_list = [None] * merged_list_size\n",
        "    \n",
        "    current_index_alices = 0\n",
        "    current_index_mine = 0\n",
        "    current_index_merged = 0\n",
        "    \n",
        "    while current_index_merged < merged_list_size:\n",
        "        \n",
        "        is_my_list_exhausted = current_index_mine >= len(my_list)\n",
        "        is_alices_list_exhausted = current_index_alices >= len(alices_list)\n",
        "        print(f\"Mine: {is_my_list_exhausted}\")\n",
        "        print(f\"Alice: {is_alices_list_exhausted}\")\n",
        "        \n",
        "        \n",
        "        if (not is_my_list_exhausted and\n",
        "                (is_alices_list_exhausted or\n",
        "                my_list[current_index_mine] < \n",
        "                alices_list[current_index_alices])):\n",
        "            merged_list[current_index_merged] = my_list[current_index_mine]\n",
        "            current_index_mine += 1\n",
        "        else:\n",
        "            merged_list[current_index_merged] = alices_list[current_index_alices]\n",
        "            current_index_alices += 1\n",
        "            \n",
        "        current_index_merged += 1\n",
        "\n",
        "    print(merged_list)\n",
        "    return merged_list"
      ],
      "execution_count": null,
      "outputs": []
    },
    {
      "cell_type": "markdown",
      "metadata": {
        "id": "kQFSbh6IoUjm"
      },
      "source": [
        "# Cafe Order Checker"
      ]
    },
    {
      "cell_type": "markdown",
      "metadata": {
        "id": "BkQzGSP1oZ1n"
      },
      "source": [
        "My cake shop is so popular, I'm adding some tables and hiring wait staff so folks can have a cute sit-down cake-eating experience.\n",
        "\n",
        "I have two registers: one for take-out orders, and the other for the other folks eating inside the cafe. All the customer orders get combined into one list for the kitchen, where they should be handled first-come, first-served.\n",
        "\n",
        "Recently, some customers have been complaining that people who placed orders after them are getting their food first. Yikes—that's not good for business!\n",
        "\n",
        "To investigate their claims, one afternoon I sat behind the registers with my laptop and recorded:\n",
        "\n",
        "- The take-out orders as they were entered into the system and given to the kitchen. (take_out_orders)\n",
        "- The dine-in orders as they were entered into the system and given to the kitchen. (dine_in_orders)\n",
        "- Each customer order (from either register) as it was finished by the kitchen. (served_orders)\n",
        "- Given all three lists, write a function to check that my service is first-come, first-served. All food should come out in the same order customers requested it.\n",
        "\n",
        "We'll represent each customer order as a unique integer.\n",
        "\n",
        "As an example,\n",
        "\n",
        "```\n",
        "  Take Out Orders: [1, 3, 5]\n",
        "  Dine In Orders: [2, 4, 6]\n",
        "  Served Orders: [1, 2, 4, 6, 5, 3]\n",
        "```\n",
        "\n",
        "would not be first-come, first-served, since order 3 was requested before order 5 but order 5 was served first.\n",
        "\n",
        "But,\n",
        "\n",
        "```\n",
        " Take Out Orders: [17, 8, 24]\n",
        " Dine In Orders: [12, 19, 2]\n",
        " Served Orders: [17, 8, 12, 19, 24, 2]\n",
        "```\n",
        "\n",
        "would be first-come, first-served."
      ]
    },
    {
      "cell_type": "code",
      "metadata": {
        "id": "tpX7q7vdo--F"
      },
      "source": [
        "def is_first_come_first_served(take_out_orders, dine_in_orders, served_orders):\n",
        "\n",
        "    # Check if we're serving orders first-come, first-served\n",
        "    take_out_orders_index = 0\n",
        "    dine_in_orders_index = 0\n",
        "    take_out_orders_max_index = len(take_out_orders) - 1\n",
        "    dine_in_orders_max_index = len(dine_in_orders) - 1\n",
        "    \n",
        "    for order in served_orders:\n",
        "        \n",
        "        if (take_out_orders_index <= take_out_orders_max_index and\n",
        "                take_out_orders[take_out_orders_index]):\n",
        "            take_out_orders_index += 1\n",
        "            \n",
        "        elif (dine_in_orders_index <= dine_in_orders_max_index and\n",
        "                order == dine_in_orders[dine_in_orders_max_index]):\n",
        "            dine_in_orders_index += 1\n",
        "            \n",
        "        else:\n",
        "            return False\n",
        "            \n",
        "    \n",
        "    if (dine_in_orders_index != len(dine_in_orders) or\n",
        "            take_out_orders_index != len(take_out_orders)):\n",
        "        return False\n",
        "    \n",
        "    \n",
        "    return True"
      ],
      "execution_count": null,
      "outputs": []
    },
    {
      "cell_type": "markdown",
      "metadata": {
        "id": "jcg_AWbjnX7q"
      },
      "source": [
        "# Median of 2 arrays"
      ]
    },
    {
      "cell_type": "markdown",
      "metadata": {
        "id": "c7QK_WIEnb7e"
      },
      "source": [
        "Find the median of two sorted arrays."
      ]
    },
    {
      "cell_type": "code",
      "metadata": {
        "colab": {
          "base_uri": "https://localhost:8080/"
        },
        "id": "c9KPZj0aniC8",
        "outputId": "12694836-cb74-449b-b522-a83acf20e98e"
      },
      "source": [
        "def median(array1, array2):\n",
        "    if len(array1) < 1 and len(array2) < 1:\n",
        "        raise ValueError('The arrays should not be empty!')\n",
        "    sum_of_all, quantity_items = 0, len(array1) * 2\n",
        "    for i in range(len(array1)):\n",
        "        sum_of_all += array1[i]\n",
        "        sum_of_all += array2[i]\n",
        "\n",
        "    print(sum_of_all)\n",
        "    return sum_of_all / quantity_items\n",
        "\n",
        "median([1,3,5],[2,4,6])"
      ],
      "execution_count": null,
      "outputs": [
        {
          "output_type": "stream",
          "name": "stdout",
          "text": [
            "21\n"
          ]
        },
        {
          "output_type": "execute_result",
          "data": {
            "text/plain": [
              "3.5"
            ]
          },
          "metadata": {},
          "execution_count": 4
        }
      ]
    }
  ]
}