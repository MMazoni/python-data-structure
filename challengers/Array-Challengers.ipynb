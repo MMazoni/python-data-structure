{
  "nbformat": 4,
  "nbformat_minor": 0,
  "metadata": {
    "colab": {
      "name": "Array-Challengers.ipynb",
      "provenance": [],
      "collapsed_sections": [
        "CoLOBXutPiMo",
        "2qWnCDigPemF",
        "4NW7tBro2oex",
        "VGFinNROjnkL",
        "wxLe6DDdPmBo"
      ]
    },
    "kernelspec": {
      "name": "python3",
      "display_name": "Python 3"
    },
    "language_info": {
      "name": "python"
    }
  },
  "cells": [
    {
      "cell_type": "markdown",
      "metadata": {
        "id": "CoLOBXutPiMo"
      },
      "source": [
        "## Two Sum"
      ]
    },
    {
      "cell_type": "markdown",
      "metadata": {
        "id": "FeMtAbf2g2fH"
      },
      "source": [
        "O Two Sum é bastante comum durante entrevistas. Seu objetivo é identificar um par de números que somados batam com o valor da variável target.\n",
        "\n",
        "Ele pode ser escrito em um algoritmo que roda no tempo O(n).\n",
        "\n",
        "### Exemplos\n",
        "Se o array é [4, 1, 2, -2, 11, 15, 1, -1, -6, -4] e o target é 9. Neste caso, seu programa deve retornar:\n",
        "\n",
        "[-2, 11]\n",
        "\n",
        "O motivo é bastante simples:\n",
        "\n",
        "-2 + 11 = 9\n",
        "\n"
      ]
    },
    {
      "cell_type": "code",
      "metadata": {
        "colab": {
          "base_uri": "https://localhost:8080/"
        },
        "id": "WAycsVqFgscW",
        "outputId": "e2975f58-fb4c-49b1-9236-cbed8bd3561a"
      },
      "source": [
        "# O(n)\n",
        "def solution(numbers, target_sum):\n",
        "    for pair in zip(numbers, numbers[1:]):\n",
        "        result = pair[0] + pair[1]\n",
        "        if result == target_sum:\n",
        "            return list(pair)\n",
        "    return []\n",
        "\n",
        "# O(n log n)\n",
        "def solution2(numbers, target_sum):\n",
        "    numbers.sort()\n",
        "\n",
        "    left_pointer = 0\n",
        "    right_pointer = len(numbers) - 1\n",
        "\n",
        "    while left_pointer < right_pointer:\n",
        "        result = numbers[left_pointer] + numbers[right_pointer]\n",
        "        if result == target_sum:\n",
        "            return [numbers[left_pointer], numbers[right_pointer]]\n",
        "        elif result < target_sum:\n",
        "            left_pointer += 1\n",
        "        elif result > target_sum:\n",
        "            right_pointer -= 1\n",
        "    \n",
        "    return []\n",
        "\n",
        "\n",
        "solution([4, 1, 2, -2, 11, 15, 1, -1, -6, -4], 9)\n",
        "solution([1, 2, 3, 4, 5, 6, 7, 8, 9, 0, 10, 12], 99)"
      ],
      "execution_count": null,
      "outputs": [
        {
          "output_type": "execute_result",
          "data": {
            "text/plain": [
              "[]"
            ]
          },
          "metadata": {},
          "execution_count": 5
        }
      ]
    },
    {
      "cell_type": "markdown",
      "metadata": {
        "id": "2qWnCDigPemF"
      },
      "source": [
        "## Three Sum"
      ]
    },
    {
      "cell_type": "markdown",
      "metadata": {
        "id": "4NW7tBro2oex"
      },
      "source": [
        "\n",
        "O Three sum é uma variação do problema Two Sum, caso você ainda não tenha feito ele sugiro que vá primeiro nele e depois volte aqui.\n",
        "\n",
        "A idéia deste problema é identificar todos os três números que quando somados resultem em um valor especificado.\n",
        "\n",
        "### Exemplos\n",
        "Se o array é [12, 3, 1, 2, -6, 5, -8, 6] e o target é 0. Neste caso, seu programa deve retornar:\n",
        "\n",
        "[[-8, 2, 6], [-8, 3, 5], [-6, 1, 5]\n",
        "\n",
        "A soma de todos os valores das listas acima será igual a zero."
      ]
    },
    {
      "cell_type": "code",
      "metadata": {
        "colab": {
          "base_uri": "https://localhost:8080/"
        },
        "id": "Upmf320E2woN",
        "outputId": "09fb5b3f-1100-4b45-aca4-5f72994becbd"
      },
      "source": [
        "def solution(numbers, target_sum):\n",
        "    results = []\n",
        "    numbers.sort()\n",
        "\n",
        "    for i in range(len(numbers)):\n",
        "        left_pointer = i + 1\n",
        "        right_pointer = len(numbers) - 1\n",
        "        while left_pointer < right_pointer:\n",
        "            result = numbers[i] + numbers[left_pointer] + numbers[right_pointer]\n",
        "            if result < target_sum:\n",
        "                left_pointer += 1\n",
        "            elif result > target_sum:\n",
        "                right_pointer -= 1\n",
        "            else:\n",
        "                results.append([numbers[i], numbers[left_pointer], numbers[right_pointer]])\n",
        "            \n",
        "                left_pointer += 1\n",
        "                right_pointer -= 1\n",
        "    \n",
        "    return results\n",
        "\n",
        "solution([12, 3, 1, 2, -6, 5, -8, 6], 0)"
      ],
      "execution_count": null,
      "outputs": [
        {
          "output_type": "execute_result",
          "data": {
            "text/plain": [
              "[[-8, 2, 6], [-8, 3, 5], [-6, 1, 5]]"
            ]
          },
          "metadata": {},
          "execution_count": 2
        }
      ]
    },
    {
      "cell_type": "markdown",
      "metadata": {
        "id": "VGFinNROjnkL"
      },
      "source": [
        "## Decode String"
      ]
    },
    {
      "cell_type": "markdown",
      "metadata": {
        "id": "pOkohQI7jsri"
      },
      "source": [
        "Dada uma string codificada, retorne a string decodificada.\n",
        "\n",
        "A regra de codificação é: k[string_codificada], onde a string_codificada dentro dos colchetes serão repetidas o número de k vezes. O valor de k será sempre um número positivo.\n",
        "\n",
        "Você deve assumir que as strings de entrada são sempre válidas, sem espaço e os colchetes estão bem formatados.\n",
        "Exemplos:\n",
        "\n",
        "s = \"2[a]3[bc]\", retornará \"aabcbcbc\".\n",
        "\n",
        "s = \"3[a2[c]]\", retornará \"accaccacc\".\n",
        "\n",
        "s = \"2[abc]3[cd]ef\", retornará \"abcabccdcdcdef\".\n"
      ]
    },
    {
      "cell_type": "code",
      "metadata": {
        "colab": {
          "base_uri": "https://localhost:8080/"
        },
        "id": "1frlIVawjxoV",
        "outputId": "be9ea49d-370d-4b15-a66d-50dd5b0ddc11"
      },
      "source": [
        "def decode_string(str_to_decode):\n",
        "    stack = []\n",
        "    number = 0\n",
        "    temp_str = ''\n",
        "    for char in str_to_decode:\n",
        "        if char == '[':\n",
        "            if temp_str:\n",
        "                temp_str, stack = append_temp_string(temp_str, stack)\n",
        "            stack.append(number)\n",
        "            number = 0\n",
        "        elif char == ']':\n",
        "            if temp_str:\n",
        "                temp_str, stack = append_temp_string(temp_str, stack)\n",
        "            new_str = ''\n",
        "            first = stack.pop()\n",
        "            while first and type(first) != int:\n",
        "                new_str = first + new_str\n",
        "                first = stack.pop()\n",
        "            new_str *= first\n",
        "            stack.append(new_str)\n",
        "        else:\n",
        "            if char.isdigit():\n",
        "                number = 10 * number + int(char)\n",
        "            else:\n",
        "                temp_str += char\n",
        "\n",
        "    if temp_str:\n",
        "        stack.append(temp_str)\n",
        "    return ''.join(stack)\n",
        "\n",
        "def append_temp_string(temp_str, stack):\n",
        "    stack.append(temp_str)\n",
        "    return '', stack\n",
        "\n",
        "print('aabb' == decode_string('aa2[b]'))\n",
        "print('aabcbcbc' == decode_string('2[a]3[bc]'))\n",
        "print('accaccacc' == decode_string('3[a2[c]]'))\n",
        "print('abcabccdcdcdef' == decode_string('2[abc]3[cd]ef'))\n",
        "print('algomania' == decode_string('algomania'))\n",
        "print('aaabFFFFcbFFFFc' == decode_string('3[a]2[b4[F]c]'))\n",
        "print('zzzyypqjkjkefjkjkefjkjkefjkjkefyypqjkjkefjkjkefjkjkefjkjkefef' == \n",
        "      decode_string('3[z]2[2[y]pq4[2[jk]e1[f]]]ef'))"
      ],
      "execution_count": 4,
      "outputs": [
        {
          "output_type": "stream",
          "name": "stdout",
          "text": [
            "True\n",
            "True\n",
            "True\n",
            "True\n",
            "True\n",
            "True\n",
            "True\n"
          ]
        }
      ]
    },
    {
      "cell_type": "markdown",
      "metadata": {
        "id": "wxLe6DDdPmBo"
      },
      "source": [
        "## Merging Meetings"
      ]
    },
    {
      "cell_type": "markdown",
      "metadata": {
        "id": "Pd1U_9ubPrZL"
      },
      "source": [
        " Your company built an in-house calendar tool called HiCal. You want to add a feature to see the times in a day when everyone is available.\n",
        "\n",
        "To do this, you’ll need to know when any team is having a meeting. In HiCal, a meeting is stored as a tuple ↴ of integers (start_time, end_time). These integers represent the number of 30-minute blocks past 9:00am.\n",
        "\n",
        "For example:\n",
        "\n",
        "```\n",
        "  (2, 3)  # Meeting from 10:00 – 10:30 am\n",
        "  (6, 9)  # Meeting from 12:00 – 1:30 pm\n",
        "```\n",
        "\n",
        "Write a function merge_ranges() that takes a list of multiple meeting time ranges and returns a list of condensed ranges.\n",
        "\n",
        "For example, given:\n",
        "```\n",
        "  [(0, 1), (3, 5), (4, 8), (10, 12), (9, 10)]\n",
        "```\n",
        "\n",
        "your function would return:\n",
        "\n",
        "```\n",
        "  [(0, 1), (3, 8), (9, 12)]\n",
        "```\n",
        "\n",
        "Do not assume the meetings are in order. The meeting times are coming from multiple teams.\n",
        "\n",
        "Write a solution that's efficient even when we can't put a nice upper bound on the numbers representing our time ranges. Here we've simplified our times down to the number of 30-minute slots past 9:00 am. But we want the function to work even for very large numbers, like Unix timestamps. In any case, the spirit of the challenge is to merge meetings where start_time and end_time don't have an upper bound. "
      ]
    },
    {
      "cell_type": "code",
      "metadata": {
        "id": "RvUfuR0GP-SK"
      },
      "source": [
        "import unittest\n",
        "\n",
        "\n",
        "def merge_ranges(meetings):\n",
        "    if not meetings:\n",
        "        return []\n",
        "    sorted_meetings = sorted(meetings)\n",
        "    merged_meetings = [sorted_meetings[0]]\n",
        "    for current_meeting_start, current_meeting_end in sorted_meetings[1:]:\n",
        "        last_merged_meeting_start, last_merged_meeting_end = merged_meetings[-1]\n",
        "        \n",
        "        if current_meeting_start <= last_merged_meeting_end:\n",
        "            merged_meetings[-1] = (last_merged_meeting_start,\n",
        "                                    max(last_merged_meeting_end,\n",
        "                                        current_meeting_end))\n",
        "        else:\n",
        "            merged_meetings.append((current_meeting_start, current_meeting_end))\n",
        "        \n",
        "    return merged_meetings\n"
      ],
      "execution_count": 14,
      "outputs": []
    },
    {
      "cell_type": "code",
      "metadata": {
        "colab": {
          "base_uri": "https://localhost:8080/"
        },
        "id": "P124jikOQDKo",
        "outputId": "0e7ca074-9494-4a42-dd8d-9398dfdd41e2"
      },
      "source": [
        "class Test(unittest.TestCase):\n",
        "\n",
        "    def test_meetings_overlap(self):\n",
        "        actual = merge_ranges([(1, 3), (2, 4)])\n",
        "        expected = [(1, 4)]\n",
        "        self.assertEqual(actual, expected)\n",
        "\n",
        "    def test_meetings_touch(self):\n",
        "        actual = merge_ranges([(5, 6), (6, 8)])\n",
        "        expected = [(5, 8)]\n",
        "        self.assertEqual(actual, expected)\n",
        "\n",
        "    def test_meeting_contains_other_meeting(self):\n",
        "        actual = merge_ranges([(1, 8), (2, 5)])\n",
        "        expected = [(1, 8)]\n",
        "        self.assertEqual(actual, expected)\n",
        "\n",
        "    def test_meetings_stay_separate(self):\n",
        "        actual = merge_ranges([(1, 3), (4, 8)])\n",
        "        expected = [(1, 3), (4, 8)]\n",
        "        self.assertEqual(actual, expected)\n",
        "\n",
        "    def test_multiple_merged_meetings(self):\n",
        "        actual = merge_ranges([(1, 4), (2, 5), (5, 8)])\n",
        "        expected = [(1, 8)]\n",
        "        self.assertEqual(actual, expected)\n",
        "\n",
        "    def test_meetings_not_sorted(self):\n",
        "        actual = merge_ranges([(5, 8), (1, 4), (6, 8)])\n",
        "        expected = [(1, 4), (5, 8)]\n",
        "        self.assertEqual(actual, expected)\n",
        "\n",
        "    def test_one_long_meeting_contains_smaller_meetings(self):\n",
        "        actual = merge_ranges([(1, 10), (2, 5), (6, 8), (9, 10), (10, 12)])\n",
        "        expected = [(1, 12)]\n",
        "        self.assertEqual(actual, expected)\n",
        "\n",
        "    def test_sample_input(self):\n",
        "        actual = merge_ranges([(0, 1), (3, 5), (4, 8), (10, 12), (9, 10)])\n",
        "        expected = [(0, 1), (3, 8), (9, 12)]\n",
        "        self.assertEqual(actual, expected)\n",
        "\n",
        "\n",
        "unittest.main(argv=['first-arg-is-ignored'], exit=False)\n",
        "print()"
      ],
      "execution_count": 15,
      "outputs": [
        {
          "output_type": "stream",
          "name": "stderr",
          "text": [
            "........"
          ]
        },
        {
          "output_type": "stream",
          "name": "stdout",
          "text": [
            "\n"
          ]
        },
        {
          "output_type": "stream",
          "name": "stderr",
          "text": [
            "\n",
            "----------------------------------------------------------------------\n",
            "Ran 8 tests in 0.015s\n",
            "\n",
            "OK\n"
          ]
        }
      ]
    }
  ]
}