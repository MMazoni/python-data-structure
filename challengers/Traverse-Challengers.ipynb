{
  "nbformat": 4,
  "nbformat_minor": 0,
  "metadata": {
    "colab": {
      "name": "Traverse-Challengers.ipynb",
      "provenance": [],
      "collapsed_sections": [
        "-9zn-ect85rv",
        "vt8GucbB8-z-",
        "TdzCoWsAd1Z0",
        "b6h7F2E-ttnU",
        "1d62QScBKFIR"
      ]
    },
    "kernelspec": {
      "name": "python3",
      "display_name": "Python 3"
    },
    "language_info": {
      "name": "python"
    }
  },
  "cells": [
    {
      "cell_type": "markdown",
      "metadata": {
        "id": "t0qCXpqqtijB"
      },
      "source": [
        "# Binary Tree"
      ]
    },
    {
      "cell_type": "markdown",
      "metadata": {
        "id": "-9zn-ect85rv"
      },
      "source": [
        "## Invert a binary tree"
      ]
    },
    {
      "cell_type": "markdown",
      "metadata": {
        "id": "uX21EnWpdGqI"
      },
      "source": [
        "Neste desafio você deverá construir uma função que recebe uma árvore binária e inverta seus itens filhos, ou seja, o nó filho da direita do item atual deve ser invertido com o nó filho da esquerda.\n",
        "\n",
        "Os nós podem ter valores ou até mesmo serem nulos (indicando que não possuem filhos).\n",
        "\n",
        "Exemplos\n",
        "Sua função receberá uma árvore binária da seguinte forma:\n",
        "\n",
        "Exemplo 1\n",
        "\n",
        "![image.png](data:image/png;base64,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)\n",
        "\n",
        "E deverá retornar a árvore binária da seguinte forma:\n",
        "\n",
        "Exemplo 2\n",
        "\n",
        "![image.png](data:image/png;base64,iVBORw0KGgoAAAANSUhEUgAAAHgAAACTCAIAAADKhUrEAAAFo0lEQVR4Ae2dPY7yMBCG9xLcIg19DhCJO/gQOcS2bmm3dUmbkjZlyu8wn8RIIwtMsK0Z/4QXbWGywRk/nnljjTPwczpf8FeAwE+Ba+ASp/MFoAsFNEAD9LFuHvBoePQnj3bObdtmjOniZtulR0/TtK7r9Xpd1xWgFUPy7+/PPF4ArUiZhcIYA9AA/UygS40mp4ZHP08mB7tsA6ABOkCgS+mw1v7zXl2sprsELStBZXoD6ECYa6AHaID+lOvQ8Du9PuHR8Gh4tF58HbhnSAekA9Jx4ADXG1qL0jHP87IsUmOm3sZxlOowr5/mQI/juCzLPM9543n91DiOt9ut+o5Xc6CNMbfbTdYBrbXOudc5KHmkOdDOOWutLIJpmu73e12nbgu0MeZ+v0/TJAv6dL5ozF+SkW2B1otxvSmMxN0QaNUAF7/HRvLl0xoCrb0O0+6fmQYbrYAu4HGqEROE6x9sBXQZDdW7B/hMg+1WQJdZFVR06lZAB73gSAcBGmlSpEmPFNHFxgLpgHRAOoqF25EuBOmAdEA6jhTRxcZSQTqcc/xws+DeYCoyfsh6XVeNrYYneyqAZgsq1kb4O5POuWVZZHcpeYzcqAm6YoqHx386X+Z5LuDUNUHXzcQz68OCphw/yXRFjSbQVO0svu/Os8iNmh5NxAsMkkf71CADyjzyURP06XypuOVBlAvcBml2a4KmsK2iHoUpV/hOJRph9XX0PM9sAzW0FaymRz8p5rHfAjSSSkgqHTvGlUYH6YB0QDqUguvY3UI6IB2QjmPHuNLoCkkHpZ53xlAmN13RjBKgKb+xnzwqUA1Y14wSoP0Nuh2n1k6Z1jWjBOjIh8y1txDrmqEOOqlmIpLFTli8+1d1M9RBJwlCEo53TIPHq5uhCzpVDWLuV0GO+wdbMEMXdMaiLeMj+5TpyY3UvUFxMxRB57lnqvd9pNyIGYqgswU3SU8/gm7EDEXQ2UsIWaduxAxF0B997atOAGikSZEm/aqQlxospAPSAemQiqav6gfSAemAdHxVyEsNVkA6jDHbtvmPG6emyvYHQ8+rU/87G4+UPGIzNAqtqDQx70lqAdBPmNzj9XQw+y3N4g5f7ll7e5eSU8uyNAFaNh9EX3UZQ/l0vqiCpnChtGIToGUznDRt1+uVBGFfDVRBW2tJD7NzgZLSIe7OpBvOueHx2q8lftLoyDhg5dlp8LiGYWgCNE/7jtFJ/+KcPYHmtx87iVf2j13xN/XyZFeWDo1aNt+VhmGIB523ffUO+rquvJiJEbFgP2LSIe7OZC6tYdibIqtcrbX7gh5kEXOwsnTIhqo/YF959ymTDeRxsgt5357KoH1T0A4SEJOOYO84yAQAGtk7ZO84HNCIJwDpgHRAOuLjBWcyAUgHpAPSQeFQsWaP47GjRqZ0xKTHVDPxHSEmUzNB163Z645y/reERSaxOKHcIxpZm3M8Oj4Bz9sTskb32FsO6KQd2KRZ6ZFgpM3JoFPVIOa2GWlr16clg84owMv4SNdMg8angc5zz9QgCBra+8E00NmCmyTrvTMN2p8GOnJV93olOHUa6FeCOBJJAKCRvUP2LjJYcJpPANIB6YB0+BGBdiQBSAekA9IRGSw4zSfwVjr86r68YgL/Mn7b71npcXH/co20w6ApS2etHYZBtmaC83+pD/E3wivbjDBo/uU5wiGYe+PsknjP2QjKfPAtaKpOIByymXvnHCmGXkFGGXZJVwmDZrlg6ZCtCqGfqtq2zRiTZG6/J4dB09dMcqnX7+/vfqFO0vi5LpNwy95pkywpefJb0L4R9vHyj2S3+Qd9WZS+ZOHxGbRsASHrMoFm786euV4+GAZNizCSDkHRICj+bwnKSn/L0MOgW7a4U9sAGkklJJU6Dd66ZkM6IB2Qjrox2OnVIR2QDkhHp8Fb12xIB6TjWNLxH4G5f5sukF5zAAAAAElFTkSuQmCC)\n"
      ]
    },
    {
      "cell_type": "code",
      "metadata": {
        "id": "0rYjANRydCPz"
      },
      "source": [
        "class Node:\n",
        "  def __init__(self, value=0, left=None, right=None):\n",
        "      self.value = value\n",
        "      self.left = left\n",
        "      self.right = right\n",
        "\n",
        "\n",
        "def solution(root):\n",
        "    print(root.value)\n",
        "    if root.left is None and root.right is None:\n",
        "        return root\n",
        "    root.left, root.right = root.right, root.left\n",
        "    if root.left:\n",
        "        solution(root.left)\n",
        "    if root.right:\n",
        "        solution(root.right)\n",
        "    #return root"
      ],
      "execution_count": null,
      "outputs": []
    },
    {
      "cell_type": "code",
      "metadata": {
        "colab": {
          "base_uri": "https://localhost:8080/"
        },
        "id": "l_lbyfyvfejw",
        "outputId": "c16f4254-ecd5-4273-cf47-9e850b5ca122"
      },
      "source": [
        "node9 = Node(9)\n",
        "node8 = Node(8)\n",
        "node7 = Node(7)\n",
        "node6 = Node(6)\n",
        "node5 = Node(5)\n",
        "node4 = Node(4, node8, node9)\n",
        "node3 = Node(3, node6, node7)\n",
        "node2 = Node(2, node4, node5)\n",
        "node1 = Node(1, node2, node3)\n",
        "solution(node1)"
      ],
      "execution_count": null,
      "outputs": [
        {
          "output_type": "stream",
          "name": "stdout",
          "text": [
            "1\n",
            "3\n",
            "7\n",
            "6\n",
            "2\n",
            "5\n",
            "4\n",
            "9\n",
            "8\n"
          ]
        }
      ]
    },
    {
      "cell_type": "markdown",
      "metadata": {
        "id": "vt8GucbB8-z-"
      },
      "source": [
        "## Minimum Depth of Binary Tree"
      ]
    },
    {
      "cell_type": "markdown",
      "metadata": {
        "id": "_etjPk0r9aud"
      },
      "source": [
        "Dada uma árvore binária, encontre a menor profundidade da mesma.\n",
        "\n",
        "A profundidade mínima é o número de nós que formam o menor caminho entre a raiz e o nó sem nenhum filho da árvore.\n",
        "\n",
        "Nota: Um nó considerado sem nenhum filho é aquele em que o left e o right são nulos, ou seja, não tem nenhum filho.\n",
        "\n",
        "Exemplo:\n",
        "Dada a árvore binária [3, 9, 20, None, None, 15, 7],\n",
        "\n",
        "```\n",
        "  3\n",
        " / \\\n",
        "9  20\n",
        "  /  \\\n",
        " 15   7\n",
        "```\n",
        "O resultado é 2 pois o menor caminho passa pelos números 3 e 9."
      ]
    },
    {
      "cell_type": "code",
      "metadata": {
        "id": "-h0liLem9Ufc"
      },
      "source": [
        "def solution(root):\n",
        "    if not root:\n",
        "        return 0\n",
        "    queue = [(root, 1)]\n",
        "    while queue:\n",
        "        node, level = queue.pop(0)\n",
        "        if not node.left and not node.right:\n",
        "            return level\n",
        "\n",
        "        level += 1\n",
        "        if node.left:\n",
        "            queue.append((node.left, level))\n",
        "\n",
        "        if node.right:\n",
        "            queue.append((node.right, level))\n",
        "\n",
        "    return 0\n"
      ],
      "execution_count": null,
      "outputs": []
    },
    {
      "cell_type": "markdown",
      "metadata": {
        "id": "TdzCoWsAd1Z0"
      },
      "source": [
        "## Superbalanced Binary Tree"
      ]
    },
    {
      "cell_type": "markdown",
      "metadata": {
        "id": "4GoaCHxJeFze"
      },
      "source": [
        "Write a function to see if a binary tree is \"superbalanced\" (a new tree property we just made up).\n",
        "\n",
        "A tree is \"superbalanced\" if the difference between the depths of any two leaf nodes is no greater than one.\n",
        "\n"
      ]
    },
    {
      "cell_type": "code",
      "metadata": {
        "id": "Frx4bAHUeNXe"
      },
      "source": [
        "def is_balanced(tree_root):\n",
        "\n",
        "    # Determine if the tree is superbalanced\n",
        "    if not tree_root:\n",
        "        raise ValueError('There is no tree.')\n",
        "    \n",
        "    depths = []\n",
        "    queue = [(tree_root, 1)]\n",
        "    \n",
        "    while queue:\n",
        "        node, depth = queue.pop(0)\n",
        "        \n",
        "        if (not node.right) and (not node.left):\n",
        "            if depth not in depths:\n",
        "                depths.append(depth)\n",
        "                # check if is not superbalanced\n",
        "                if ((len(depths) > 2) or\n",
        "                        (len(depths) == 2 and\n",
        "                            abs(depths[0] - depths[1]) > 1)):\n",
        "                    return False\n",
        "                continue\n",
        "        \n",
        "        depth += 1\n",
        "        if node.left:\n",
        "            queue.append((node.left, depth))\n",
        "            \n",
        "        if node.right:\n",
        "            queue.append((node.right, depth))\n",
        "\n",
        "    return True\n"
      ],
      "execution_count": null,
      "outputs": []
    },
    {
      "cell_type": "code",
      "metadata": {
        "colab": {
          "base_uri": "https://localhost:8080/"
        },
        "id": "FPqs-gYYeSXI",
        "outputId": "7fe177f8-d737-419b-e6d9-f0edbfe7858a"
      },
      "source": [
        "import unittest\n",
        "\n",
        "class Test(unittest.TestCase):\n",
        "\n",
        "    class BinaryTreeNode(object):\n",
        "\n",
        "        def __init__(self, value):\n",
        "            self.value = value\n",
        "            self.left = None\n",
        "            self.right = None\n",
        "\n",
        "        def insert_left(self, value):\n",
        "            self.left = Test.BinaryTreeNode(value)\n",
        "            return self.left\n",
        "\n",
        "        def insert_right(self, value):\n",
        "            self.right = Test.BinaryTreeNode(value)\n",
        "            return self.right\n",
        "\n",
        "    def test_full_tree(self):\n",
        "        tree = Test.BinaryTreeNode(5)\n",
        "        left = tree.insert_left(8)\n",
        "        right = tree.insert_right(6)\n",
        "        left.insert_left(1)\n",
        "        left.insert_right(2)\n",
        "        right.insert_left(3)\n",
        "        right.insert_right(4)\n",
        "        result = is_balanced(tree)\n",
        "        self.assertTrue(result)\n",
        "\n",
        "    def test_both_leaves_at_the_same_depth(self):\n",
        "        tree = Test.BinaryTreeNode(3)\n",
        "        left = tree.insert_left(4)\n",
        "        right = tree.insert_right(2)\n",
        "        left.insert_left(1)\n",
        "        right.insert_right(9)\n",
        "        result = is_balanced(tree)\n",
        "        self.assertTrue(result)\n",
        "\n",
        "    def test_leaf_heights_differ_by_one(self):\n",
        "        tree = Test.BinaryTreeNode(6)\n",
        "        left = tree.insert_left(1)\n",
        "        right = tree.insert_right(0)\n",
        "        right.insert_right(7)\n",
        "        result = is_balanced(tree)\n",
        "        self.assertTrue(result)\n",
        "\n",
        "    def test_leaf_heights_differ_by_two(self):\n",
        "        tree = Test.BinaryTreeNode(6)\n",
        "        left = tree.insert_left(1)\n",
        "        right = tree.insert_right(0)\n",
        "        right_right = right.insert_right(7)\n",
        "        right_right.insert_right(8)\n",
        "        result = is_balanced(tree)\n",
        "        self.assertFalse(result)\n",
        "\n",
        "    def test_three_leaves_total(self):\n",
        "        tree = Test.BinaryTreeNode(1)\n",
        "        left = tree.insert_left(5)\n",
        "        right = tree.insert_right(9)\n",
        "        right.insert_left(8)\n",
        "        right.insert_right(5)\n",
        "        result = is_balanced(tree)\n",
        "        self.assertTrue(result)\n",
        "\n",
        "    def test_both_subtrees_superbalanced(self):\n",
        "        tree = Test.BinaryTreeNode(1)\n",
        "        left = tree.insert_left(5)\n",
        "        right = tree.insert_right(9)\n",
        "        right_left = right.insert_left(8)\n",
        "        right.insert_right(5)\n",
        "        right_left.insert_left(7)\n",
        "        result = is_balanced(tree)\n",
        "        self.assertFalse(result)\n",
        "\n",
        "    def test_both_subtrees_superbalanced_two(self):\n",
        "        tree = Test.BinaryTreeNode(1)\n",
        "        left = tree.insert_left(2)\n",
        "        right = tree.insert_right(4)\n",
        "        left.insert_left(3)\n",
        "        left_right = left.insert_right(7)\n",
        "        left_right.insert_right(8)\n",
        "        right_right = right.insert_right(5)\n",
        "        right_right_right = right_right.insert_right(6)\n",
        "        right_right_right.insert_right(9)\n",
        "        result = is_balanced(tree)\n",
        "        self.assertFalse(result)\n",
        "\n",
        "    def test_three_leaves_at_different_levels(self):\n",
        "        tree = Test.BinaryTreeNode(1)\n",
        "        left = tree.insert_left(2)\n",
        "        left_left = left.insert_left(3)\n",
        "        left.insert_right(4)\n",
        "        left_left.insert_left(5)\n",
        "        left_left.insert_right(6)\n",
        "        right = tree.insert_right(7)\n",
        "        right_right = right.insert_right(8)\n",
        "        right_right_right = right_right.insert_right(9)\n",
        "        right_right_right.insert_right(10)\n",
        "        result = is_balanced(tree)\n",
        "        self.assertFalse(result)\n",
        "\n",
        "    def test_only_one_node(self):\n",
        "        tree = Test.BinaryTreeNode(1)\n",
        "        result = is_balanced(tree)\n",
        "        self.assertTrue(result)\n",
        "\n",
        "    def test_linked_list_tree(self):\n",
        "        tree = Test.BinaryTreeNode(1)\n",
        "        right = tree.insert_right(2)\n",
        "        right_right = right.insert_right(3)\n",
        "        right_right.insert_right(4)\n",
        "        result = is_balanced(tree)\n",
        "        self.assertTrue(result)\n",
        "\n",
        "\n",
        "unittest.main(argv=[''], verbosity=2, exit=False)\n",
        "print()"
      ],
      "execution_count": null,
      "outputs": [
        {
          "output_type": "stream",
          "name": "stderr",
          "text": [
            "test_both_leaves_at_the_same_depth (__main__.Test) ... ok\n",
            "test_both_subtrees_superbalanced (__main__.Test) ... ok\n",
            "test_both_subtrees_superbalanced_two (__main__.Test) ... ok\n",
            "test_full_tree (__main__.Test) ... ok\n",
            "test_leaf_heights_differ_by_one (__main__.Test) ... ok\n",
            "test_leaf_heights_differ_by_two (__main__.Test) ... ok\n",
            "test_linked_list_tree (__main__.Test) ... ok\n",
            "test_only_one_node (__main__.Test) ... ok\n",
            "test_three_leaves_at_different_levels (__main__.Test) ... ok\n",
            "test_three_leaves_total (__main__.Test) ... "
          ]
        },
        {
          "output_type": "stream",
          "name": "stdout",
          "text": [
            "\n"
          ]
        },
        {
          "output_type": "stream",
          "name": "stderr",
          "text": [
            "ok\n",
            "\n",
            "----------------------------------------------------------------------\n",
            "Ran 10 tests in 0.022s\n",
            "\n",
            "OK\n"
          ]
        }
      ]
    },
    {
      "cell_type": "markdown",
      "metadata": {
        "id": "3-kcykhA2_Mv"
      },
      "source": [
        "## Valid Binary Search Tree"
      ]
    },
    {
      "cell_type": "markdown",
      "metadata": {
        "id": "c9bcNcqo3IU1"
      },
      "source": [
        "Write a function to check that a binary tree is a valid binary search tree."
      ]
    },
    {
      "cell_type": "code",
      "metadata": {
        "id": "WKEwIt0U3NQF"
      },
      "source": [
        "def is_binary_search_tree(root):\n",
        "\n",
        "    # Start at the root, with an arbitrarily low lower bound\n",
        "    # and an arbitrarily high upper bound\n",
        "    node_and_bounds_stack = [(root, -float('inf'), float('inf'))]\n",
        "\n",
        "    # Depth-first traversal\n",
        "    while len(node_and_bounds_stack):\n",
        "        node, lower_bound, upper_bound = node_and_bounds_stack.pop()\n",
        "\n",
        "        # If this node is invalid, we return false right away\n",
        "        if (node.value <= lower_bound) or (node.value >= upper_bound):\n",
        "            return False\n",
        "\n",
        "        if node.left:\n",
        "            # This node must be less than the current node\n",
        "            node_and_bounds_stack.append((node.left, lower_bound, node.value))\n",
        "        if node.right:\n",
        "            # This node must be greater than the current node\n",
        "            node_and_bounds_stack.append((node.right, node.value, upper_bound))\n",
        "\n",
        "    # If none of the nodes were invalid, return true\n",
        "    # (at this point we have checked all nodes)\n",
        "    return True"
      ],
      "execution_count": null,
      "outputs": []
    },
    {
      "cell_type": "code",
      "metadata": {
        "colab": {
          "base_uri": "https://localhost:8080/"
        },
        "id": "90NvSp7m5aV3",
        "outputId": "e10fb3d1-6f8a-4787-fd88-ac56f21c5a47"
      },
      "source": [
        "import unittest\n",
        "\n",
        "\n",
        "class Test(unittest.TestCase):\n",
        "\n",
        "    class BinaryTreeNode(object):\n",
        "\n",
        "        def __init__(self, value):\n",
        "            self.value = value\n",
        "            self.left = None\n",
        "            self.right = None\n",
        "\n",
        "        def insert_left(self, value):\n",
        "            self.left = Test.BinaryTreeNode(value)\n",
        "            return self.left\n",
        "\n",
        "        def insert_right(self, value):\n",
        "            self.right = Test.BinaryTreeNode(value)\n",
        "            return self.right\n",
        "\n",
        "    def test_valid_full_tree(self):\n",
        "        tree = Test.BinaryTreeNode(50)\n",
        "        left = tree.insert_left(30)\n",
        "        right = tree.insert_right(70)\n",
        "        left.insert_left(10)\n",
        "        left.insert_right(40)\n",
        "        right.insert_left(60)\n",
        "        right.insert_right(80)\n",
        "        result = is_binary_search_tree(tree)\n",
        "        self.assertTrue(result)\n",
        "\n",
        "    def test_both_subtrees_valid(self):\n",
        "        tree = Test.BinaryTreeNode(50)\n",
        "        left = tree.insert_left(30)\n",
        "        right = tree.insert_right(80)\n",
        "        left.insert_left(20)\n",
        "        left.insert_right(60)\n",
        "        right.insert_left(70)\n",
        "        right.insert_right(90)\n",
        "        result = is_binary_search_tree(tree)\n",
        "        self.assertFalse(result)\n",
        "\n",
        "    def test_descending_linked_list(self):\n",
        "        tree = Test.BinaryTreeNode(50)\n",
        "        left = tree.insert_left(40)\n",
        "        left_left = left.insert_left(30)\n",
        "        left_left_left = left_left.insert_left(20)\n",
        "        left_left_left.insert_left(10)\n",
        "        result = is_binary_search_tree(tree)\n",
        "        self.assertTrue(result)\n",
        "\n",
        "    def test_out_of_order_linked_list(self):\n",
        "        tree = Test.BinaryTreeNode(50)\n",
        "        right = tree.insert_right(70)\n",
        "        right_right = right.insert_right(60)\n",
        "        right_right.insert_right(80)\n",
        "        result = is_binary_search_tree(tree)\n",
        "        self.assertFalse(result)\n",
        "\n",
        "    def test_one_node_tree(self):\n",
        "        tree = Test.BinaryTreeNode(50)\n",
        "        result = is_binary_search_tree(tree)\n",
        "        self.assertTrue(result)\n",
        "\n",
        "\n",
        "unittest.main(argv=[''], verbosity=2, exit=False)\n",
        "print()"
      ],
      "execution_count": null,
      "outputs": [
        {
          "output_type": "stream",
          "name": "stderr",
          "text": [
            "test_both_subtrees_valid (__main__.Test) ... ok\n",
            "test_descending_linked_list (__main__.Test) ... ok\n",
            "test_one_node_tree (__main__.Test) ... ok\n",
            "test_out_of_order_linked_list (__main__.Test) ... ok\n",
            "test_valid_full_tree (__main__.Test) ... "
          ]
        },
        {
          "output_type": "stream",
          "name": "stdout",
          "text": [
            "\n"
          ]
        },
        {
          "output_type": "stream",
          "name": "stderr",
          "text": [
            "ok\n",
            "\n",
            "----------------------------------------------------------------------\n",
            "Ran 5 tests in 0.012s\n",
            "\n",
            "OK\n"
          ]
        }
      ]
    },
    {
      "cell_type": "markdown",
      "metadata": {
        "id": "wqHimV71XSWZ"
      },
      "source": [
        "## 2nd Largest Item in BST"
      ]
    },
    {
      "cell_type": "markdown",
      "metadata": {
        "id": "QMvrb51dXdHb"
      },
      "source": [
        "Write a function to find the 2nd largest element in a binary search tree."
      ]
    },
    {
      "cell_type": "code",
      "metadata": {
        "id": "KOKuUwg0Xi5D"
      },
      "source": [
        "def find_largest(root_node):\n",
        "    current = root_node\n",
        "    \n",
        "    while current:\n",
        "        if not current.right:\n",
        "            return current.value\n",
        "        \n",
        "        current = current.right\n",
        "\n",
        "\n",
        "def find_second_largest(root_node):\n",
        "\n",
        "    # Find the second largest item in the binary search tree\n",
        "    if (root_node is None or \n",
        "            (root_node.left is None and root_node.right is None)):\n",
        "        raise ValueError('Tree must have at least 2 nodes')\n",
        "        \n",
        "    \n",
        "    current = root_node\n",
        "    \n",
        "    while current:\n",
        "        if current.left and not current.right:\n",
        "            return find_largest(current.left)\n",
        "        \n",
        "        if (current.right and\n",
        "                not current.right.left and\n",
        "                not current.right.right):\n",
        "            return current.value\n",
        "            \n",
        "        current = current.right"
      ],
      "execution_count": null,
      "outputs": []
    },
    {
      "cell_type": "markdown",
      "metadata": {
        "id": "RFsibRJZMBtF"
      },
      "source": [
        "# Binary Search"
      ]
    },
    {
      "cell_type": "markdown",
      "metadata": {
        "id": "r51wWx4NMJi0"
      },
      "source": [
        "## Find Rotation Point"
      ]
    },
    {
      "cell_type": "markdown",
      "metadata": {
        "id": "XIH0lyOGNJ-Y"
      },
      "source": [
        "### I want to learn some big words so people think I'm smart.\n",
        "\n",
        "I opened up a dictionary to a page in the middle and started flipping through, looking for words I didn't know. I put each word I didn't know at increasing indices in a huge list I created in memory. When I reached the end of the dictionary, I started from the beginning and did the same thing until I reached the page I started at.\n",
        "\n",
        "Now I have a list of words that are mostly alphabetical, except they start somewhere in the middle of the alphabet, reach the end, and then start from the beginning of the alphabet. In other words, this is an alphabetically ordered list that has been \"rotated.\" \n",
        "\n",
        "\n",
        "For example: \n",
        "\n",
        "```\n",
        "words = [\n",
        "    'ptolemaic',\n",
        "    'retrograde',\n",
        "    'supplant',\n",
        "    'undulate',\n",
        "    'xenoepist',\n",
        "    'asymptote',  # <-- rotates here!\n",
        "    'babka',\n",
        "    'banoffee',\n",
        "    'engender',\n",
        "    'karpatka',\n",
        "    'othellolagkage',\n",
        "]\n",
        "```\n",
        "\n",
        "**Write a function for finding the index of the \"rotation point,\"** which is where I started working from the beginning of the dictionary. This list is huge (there are lots of words I don't know) so we want to be efficient here. "
      ]
    },
    {
      "cell_type": "code",
      "metadata": {
        "id": "W3D6n2tvN6oR"
      },
      "source": [
        "def find_rotation_point(words):\n",
        "\n",
        "    # Find the rotation point in the list\n",
        "    floor_point = 0\n",
        "    ceiling_point = len(words) - 1\n",
        "    first_word = words[0]\n",
        "    \n",
        "    while floor_point  < ceiling_point:\n",
        "        guess_point = floor_point + ((ceiling_point - floor_point) // 2)\n",
        "        \n",
        "        \n",
        "        if words[guess_point] >= first_word:\n",
        "            floor_point = guess_point\n",
        "        else:\n",
        "            ceiling_point = guess_point\n",
        "            \n",
        "        if floor_point + 1 == ceiling_point:\n",
        "            return ceiling_point\n"
      ],
      "execution_count": null,
      "outputs": []
    },
    {
      "cell_type": "markdown",
      "metadata": {
        "id": "edrCADLqQVVA"
      },
      "source": [
        "## Find Repeat, Space Edition"
      ]
    },
    {
      "cell_type": "markdown",
      "metadata": {
        "id": "XyyuF5g-Qlia"
      },
      "source": [
        " We have a list of integers, where:\n",
        "\n",
        "    1. The integers are in the range 1..n1..n1..n\n",
        "    2. The list has a length of n+1n+1n+1\n",
        "\n",
        "It follows that our list has at least one integer which appears at least twice. But it may have several duplicates, and each duplicate may appear more than twice.\n",
        "\n",
        "**Write a function which finds an integer that appears more than once in our list. Don't modify the input!** (If there are multiple duplicates, you only need to find one of them.)\n",
        "\n",
        "We're going to run this function on our new, super-hip MacBook Pro With Retina Display™. Thing is, the damn thing came with the RAM soldered right to the motherboard, so we can't upgrade our RAM. **So we need to optimize for space!**"
      ]
    },
    {
      "cell_type": "code",
      "metadata": {
        "id": "HAa6y4WJRN0t"
      },
      "source": [
        "def find_repeat(numbers):\n",
        "\n",
        "    # Find a number that appears more than once\n",
        "    floor = 1\n",
        "    ceiling = len(numbers) - 1\n",
        "    \n",
        "    while floor < ceiling:\n",
        "        \n",
        "        midpoint = floor + ((ceiling - floor) // 2)\n",
        "        lower_range_floor, lower_range_ceiling = floor, midpoint\n",
        "        upper_range_floor, upper_range_ceiling = midpoint+1, ceiling\n",
        "        \n",
        "        items_in_lower_range = 0\n",
        "        for item in numbers:\n",
        "            \n",
        "            if item >= lower_range_floor and item <= lower_range_ceiling:\n",
        "                items_in_lower_range += 1\n",
        "                \n",
        "        distinct_possible_integers_in_lower_range = (\n",
        "            lower_range_ceiling\n",
        "            - lower_range_floor\n",
        "            + 1\n",
        "        )\n",
        "        \n",
        "        if items_in_lower_range > distinct_possible_integers_in_lower_range:\n",
        "            floor, ceiling = lower_range_floor, lower_range_ceiling\n",
        "            \n",
        "        else:\n",
        "            floor, ceiling = upper_range_floor, upper_range_ceiling\n",
        "\n",
        "\n",
        "    return floor"
      ],
      "execution_count": null,
      "outputs": []
    },
    {
      "cell_type": "markdown",
      "metadata": {
        "id": "EddLsVW3Rjrd"
      },
      "source": [
        "## Top Scores"
      ]
    },
    {
      "cell_type": "markdown",
      "metadata": {
        "id": "K3r_gMlfR5us"
      },
      "source": [
        " You created a game that is more popular than Angry Birds.\n",
        "\n",
        "Each round, players receive a score between 0 and 100, which you use to rank them from highest to lowest. So far you're using an algorithm that sorts in O(n lg ⁡n) O(n lg {n}) O(n lg n) time, but players are complaining that their rankings aren't updated fast enough. You need a faster sorting algorithm.\n",
        "\n",
        "Write a function that takes:\n",
        "\n",
        "    1. a list of unsorted_scores\n",
        "    2. the highest_possible_score in the game\n",
        "\n",
        "and returns a sorted list of scores in less than O(n lg⁡ n)O(n lg {n}) O(n lg n) time.\n",
        "\n",
        "For example: \n",
        "\n",
        "    unsorted_scores = [37, 89, 41, 65, 91, 53]\n",
        "    HIGHEST_POSSIBLE_SCORE = 100\n",
        "\n",
        "    # Returns [91, 89, 65, 53, 41, 37]\n",
        "    sort_scores(unsorted_scores, HIGHEST_POSSIBLE_SCORE)\n",
        "\n",
        "\n",
        " We’re defining nnn as the number of unsorted_scores because we’re expecting the number of players to keep climbing.\n",
        "\n",
        "And, we'll treat highest_possible_score as a constant instead of factoring it into our big O time and space costs because the highest possible score isn’t going to change. Even if we do redesign the game a little, the scores will stay around the same order of magnitude. "
      ]
    },
    {
      "cell_type": "code",
      "metadata": {
        "id": "sGxanIooS5pr"
      },
      "source": [
        "def sort_scores(unsorted_scores, highest_possible_score):\n",
        "\n",
        "    # Sort the scores in O(n) time\n",
        "    score_counts = [0] * (highest_possible_score+1)\n",
        "    \n",
        "    for score in unsorted_scores:\n",
        "        score_counts[score] += 1\n",
        "        \n",
        "    \n",
        "    sorted_scores = []\n",
        "    \n",
        "    for score in range(len(score_counts) - 1, -1, -1):\n",
        "        count = score_counts[score]\n",
        "        \n",
        "        for time in range(count):\n",
        "            sorted_scores.append(score)\n",
        "\n",
        "    return sorted_scores"
      ],
      "execution_count": null,
      "outputs": []
    },
    {
      "cell_type": "markdown",
      "metadata": {
        "id": "k4rPBQNlToVG"
      },
      "source": [
        "## Merging Meeting Times"
      ]
    },
    {
      "cell_type": "markdown",
      "metadata": {
        "id": "fXFHioqVUY9l"
      },
      "source": [
        "### Your company built an in-house calendar tool called HiCal. You want to add a feature to see the times in a day when everyone is available.\n",
        "\n",
        "To do this, you’ll need to know when any team is having a meeting. In HiCal, a meeting is stored as a tuple ↴ of integers (start_time, end_time). These integers represent the number of 30-minute blocks past 9:00am.\n",
        "\n",
        "For example:\n",
        "\n",
        "    (2, 3)  # Meeting from 10:00 – 10:30 am\n",
        "    (6, 9)  # Meeting from 12:00 – 1:30 pm\n",
        "\n",
        "Write a function merge_ranges() that takes a list of multiple meeting time ranges and returns a list of condensed ranges.\n",
        "\n",
        "For example, given:\n",
        "\n",
        "    [(0, 1), (3, 5), (4, 8), (10, 12), (9, 10)]\n",
        "\n",
        "your function would return:\n",
        "\n",
        "    [(0, 1), (3, 8), (9, 12)]\n",
        "\n",
        "Do not assume the meetings are in order. The meeting times are coming from multiple teams.\n",
        "\n",
        "Write a solution that's efficient even when we can't put a nice upper bound on the numbers representing our time ranges. _Here we've simplified our times down to the number of 30-minute slots past 9:00 am. But we want the function to work even for very large numbers, like Unix timestamps. In any case, the spirit of the challenge is to merge meetings where start_time and end_time don't have an upper bound._ "
      ]
    },
    {
      "cell_type": "code",
      "metadata": {
        "id": "18mTrYdlVJV8"
      },
      "source": [
        "def merge_ranges(meetings):\n",
        "\n",
        "    # Merge meeting ranges\n",
        "    if not meetings:\n",
        "        return []\n",
        "    sorted_meetings = sorted(meetings)\n",
        "    merged_meetings = [sorted_meetings[0]]\n",
        "    for current_meeting_start, current_meeting_end in sorted_meetings[1:]:\n",
        "        last_merged_meeting_start, last_merged_meeting_end = merged_meetings[-1]\n",
        "        \n",
        "        if current_meeting_start <= last_merged_meeting_end:\n",
        "            merged_meetings[-1] = (last_merged_meeting_start,\n",
        "                                    max(last_merged_meeting_end,\n",
        "                                        current_meeting_end))\n",
        "        else:\n",
        "            merged_meetings.append((current_meeting_start, current_meeting_end))\n",
        "        \n",
        "    return merged_meetings"
      ],
      "execution_count": null,
      "outputs": []
    },
    {
      "cell_type": "markdown",
      "metadata": {
        "id": "b6h7F2E-ttnU"
      },
      "source": [
        "# Depth First Search"
      ]
    },
    {
      "cell_type": "markdown",
      "metadata": {
        "id": "p4WXmrW6tx6W"
      },
      "source": [
        "## Longest Increasing Path in a Matrix"
      ]
    },
    {
      "cell_type": "markdown",
      "metadata": {
        "id": "uY0YwPgMt9Jl"
      },
      "source": [
        "Dada uma matriz de inteiros, busque o tamanho do maior caminho em que os valores são incrementais.\n",
        "\n",
        "Para cada célula, mova-se em quatro diferentes direções: esquerda, direita, para cima e para baixo. Você não poderá se mover diagonalmente ou para fora da matriz!\n",
        "\n",
        "---\n",
        "\n",
        "Exemplo 1:\n",
        "\n",
        "Entrada: \n",
        "```\n",
        "nums = [\n",
        "    [9, 9, 4],\n",
        "    [6, 6, 8],\n",
        "    [2, 1, 1]\n",
        "]\n",
        "```\n",
        "Saída: 4\n",
        "\n",
        "Explicação: O maior caminho em que os valores são incrementais é `[1, 2, 6, 9]`\n",
        "\n",
        "---\n",
        "\n",
        "Exemplo 2:\n",
        "\n",
        "Entrada:\n",
        "``` \n",
        "nums = [\n",
        "    [3, 4, 5],\n",
        "    [3, 2, 6],\n",
        "    [2, 2, 1]\n",
        "]\n",
        "```\n",
        "Saída: 4\n",
        "\n",
        "Explicação: O maior caminho em que os valores são incrementais é `[3, 4, 5, 6]`"
      ]
    },
    {
      "cell_type": "code",
      "metadata": {
        "id": "d7FuSqtIul-4"
      },
      "source": [
        "def solution(matrix):\n",
        "    result = 0\n",
        "    if not matrix or not matrix[0]:\n",
        "        return result\n",
        "\n",
        "    def is_valid_position(outer, inner, value):\n",
        "        if (outer >= 0 and outer < vertical_size\n",
        "                and inner >= 0 and inner < horizontal_size):\n",
        "            return value < matrix[outer][inner]\n",
        "\n",
        "    def depth_first_search(outer, inner):\n",
        "        if count_matrix[outer][inner] != 0:\n",
        "            return count_matrix[outer][inner]\n",
        "        \n",
        "        value = matrix[outer][inner]\n",
        "        max_path = 0\n",
        "        for next_outer, next_inner in [(outer + 1, inner), (outer - 1, inner),\n",
        "                                       (outer, inner + 1), (outer, inner - 1)]:\n",
        "            if is_valid_position(next_outer, next_inner, value):\n",
        "                max_path = max(max_path, depth_first_search(next_outer, next_inner))\n",
        "        count_matrix[outer][inner] = 1 + max_path\n",
        "\n",
        "        return count_matrix[outer][inner]\n",
        "\n",
        "\n",
        "    vertical_size, horizontal_size = len(matrix), len(matrix[0])\n",
        "    count_matrix = [[0] * horizontal_size for _ in range(vertical_size)]\n",
        "\n",
        "    for m in range(vertical_size):\n",
        "        for n in range(horizontal_size):\n",
        "            result = max(result, depth_first_search(m, n))\n",
        "    return result\n"
      ],
      "execution_count": null,
      "outputs": []
    },
    {
      "cell_type": "markdown",
      "metadata": {
        "id": "m9cOYX-4Wa7i"
      },
      "source": [
        "## "
      ]
    },
    {
      "cell_type": "markdown",
      "metadata": {
        "id": "G14HHq-3ZNgS"
      },
      "source": [
        "# Graph"
      ]
    },
    {
      "cell_type": "markdown",
      "metadata": {
        "id": "Xcts67pXZRWs"
      },
      "source": [
        "## Graph Coloring"
      ]
    },
    {
      "cell_type": "markdown",
      "metadata": {
        "id": "zN6cB-hzZVfX"
      },
      "source": [
        "Given an undirected graph with maximum degree DDD, find a graph coloring using at most D+1 colors."
      ]
    },
    {
      "cell_type": "code",
      "metadata": {
        "id": "euKQljeQZhJB"
      },
      "source": [
        "class GraphNode:\n",
        "\n",
        "    def __init__(self, label):\n",
        "        self.label = label\n",
        "        self.neighbors = set()\n",
        "        self.color = None\n",
        "\n",
        "\n",
        "def color_graph(graph, colors):\n",
        "\n",
        "    # Create a valid coloring for the graph\n",
        "    for node in graph:\n",
        "        if node in node.neighbors:\n",
        "            raise Exception(f'Legal coloring impossible for node with loop: {node.label}')\n",
        "        \n",
        "        illegal_colors = set([\n",
        "            neighbor.color\n",
        "            for neighbor in node.neighbors\n",
        "            if neighbor.color\n",
        "        ])\n",
        "        \n",
        "        for color in colors:\n",
        "            if color not in illegal_colors:\n",
        "                node.color = color\n",
        "                break"
      ],
      "execution_count": null,
      "outputs": []
    },
    {
      "cell_type": "markdown",
      "metadata": {
        "id": "1d62QScBKFIR"
      },
      "source": [
        "# Dynamic Programming"
      ]
    },
    {
      "cell_type": "markdown",
      "metadata": {
        "id": "BnIrUcVGKLIk"
      },
      "source": [
        "## Fibonacci"
      ]
    },
    {
      "cell_type": "markdown",
      "metadata": {
        "id": "GZm--DYgKRTH"
      },
      "source": [
        "Write a function fib() that takes an integer n and returns the nth Fibonacci number.\n",
        "\n",
        "Let's say our Fibonacci series is 0-indexed and starts with 0."
      ]
    },
    {
      "cell_type": "code",
      "metadata": {
        "id": "ZJ7r2Fh_KKJZ"
      },
      "source": [
        "def fib(n):\n",
        "\n",
        "    # Compute the nth Fibonacci number\n",
        "    if n < 0:\n",
        "        raise ValueError('Index was negative.')\n",
        "        \n",
        "    elif n in [1, 0]:\n",
        "        return n\n",
        "        \n",
        "    \n",
        "    prev_prev = 0\n",
        "    prev = 1\n",
        "    \n",
        "    for _ in range(n-1):\n",
        "        current = prev + prev_prev\n",
        "        prev_prev = prev\n",
        "        prev = current\n",
        "\n",
        "    return current\n"
      ],
      "execution_count": null,
      "outputs": []
    },
    {
      "cell_type": "code",
      "metadata": {
        "colab": {
          "base_uri": "https://localhost:8080/"
        },
        "id": "ZaDaxZerKk2g",
        "outputId": "04312611-5549-4658-ee56-e76b47f0662a"
      },
      "source": [
        "import unittest\n",
        "\n",
        "\n",
        "class Test(unittest.TestCase):\n",
        "\n",
        "    def test_zeroth_fibonacci(self):\n",
        "        actual = fib(0)\n",
        "        expected = 0\n",
        "        self.assertEqual(actual, expected)\n",
        "\n",
        "    def test_first_fibonacci(self):\n",
        "        actual = fib(1)\n",
        "        expected = 1\n",
        "        self.assertEqual(actual, expected)\n",
        "\n",
        "    def test_second_fibonacci(self):\n",
        "        actual = fib(2)\n",
        "        expected = 1\n",
        "        self.assertEqual(actual, expected)\n",
        "\n",
        "    def test_third_fibonacci(self):\n",
        "        actual = fib(3)\n",
        "        expected = 2\n",
        "        self.assertEqual(actual, expected)\n",
        "\n",
        "    def test_fifth_fibonacci(self):\n",
        "        actual = fib(5)\n",
        "        expected = 5\n",
        "        self.assertEqual(actual, expected)\n",
        "\n",
        "    def test_tenth_fibonacci(self):\n",
        "        actual = fib(10)\n",
        "        expected = 55\n",
        "        self.assertEqual(actual, expected)\n",
        "\n",
        "    def test_negative_fibonacci(self):\n",
        "        with self.assertRaises(Exception):\n",
        "            fib(-1)\n",
        "\n",
        "\n",
        "unittest.main(argv=[''], verbosity=2, exit=False)\n",
        "print()"
      ],
      "execution_count": null,
      "outputs": [
        {
          "output_type": "stream",
          "name": "stderr",
          "text": [
            "test_fifth_fibonacci (__main__.Test) ... ok\n",
            "test_first_fibonacci (__main__.Test) ... ok\n",
            "test_negative_fibonacci (__main__.Test) ... ok\n",
            "test_second_fibonacci (__main__.Test) ... ok\n",
            "test_tenth_fibonacci (__main__.Test) ... ok\n",
            "test_third_fibonacci (__main__.Test) ... ok\n",
            "test_zeroth_fibonacci (__main__.Test) ... "
          ]
        },
        {
          "output_type": "stream",
          "name": "stdout",
          "text": [
            "\n"
          ]
        },
        {
          "output_type": "stream",
          "name": "stderr",
          "text": [
            "ok\n",
            "\n",
            "----------------------------------------------------------------------\n",
            "Ran 7 tests in 0.024s\n",
            "\n",
            "OK\n"
          ]
        }
      ]
    }
  ]
}