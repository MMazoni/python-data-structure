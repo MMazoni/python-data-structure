{
  "nbformat": 4,
  "nbformat_minor": 0,
  "metadata": {
    "colab": {
      "name": "Sorting.ipynb",
      "provenance": [],
      "collapsed_sections": []
    },
    "kernelspec": {
      "name": "python3",
      "display_name": "Python 3"
    },
    "language_info": {
      "name": "python"
    }
  },
  "cells": [
    {
      "cell_type": "markdown",
      "metadata": {
        "id": "I3F0eTEUuwoL"
      },
      "source": [
        "# Sorting\n",
        "\n",
        "É uma técnica para ordernar uma lista linear em um formato específico."
      ]
    },
    {
      "cell_type": "markdown",
      "metadata": {
        "id": "bPn5wj8bvQxt"
      },
      "source": [
        "## Bubble Sort\n",
        "\n",
        "É um algorítmo simples que itera repetidamente sobre uma lista e verifica os elementos adjacentes e troca eles caso estejam na ordem errada.\n",
        "\n",
        "- A complexidade de tempo no melhor caso, a lista já estando ordenada é O(n). Mas na média e o pior caso são O(n^2).\n",
        "- A complexidade de espaço é constante O(1), não é criado nenhum item adicional.\n",
        "\n",
        "O bubble sort geralmente é utilizado apenas para didática, não é aconselhável utilizar ele pois há melhores algorítmos de ordenação."
      ]
    },
    {
      "cell_type": "code",
      "metadata": {
        "id": "7zVJ_5ypus4c"
      },
      "source": [
        "def bubble_sort(numbers):\n",
        "    swapped = False\n",
        "    while not swapped:\n",
        "        swapped = True\n",
        "        for i in range(len(numbers) - 1):\n",
        "            if numbers[i] > numbers[i + 1]:\n",
        "                numbers[i], numbers[i + 1] = numbers[i + 1], numbers[i]\n",
        "                swapped = False             \n",
        "\n",
        "    return numbers"
      ],
      "execution_count": 31,
      "outputs": []
    },
    {
      "cell_type": "code",
      "metadata": {
        "id": "V4uVa3N-w2qk",
        "colab": {
          "base_uri": "https://localhost:8080/"
        },
        "outputId": "b991279a-e0f8-43c7-bd1c-fe07e3e1810e"
      },
      "source": [
        "import unittest\n",
        "\n",
        "class TestBubbleSort(unittest.TestCase):\n",
        "\n",
        "    def test_bubble_sort(self):\n",
        "        nums = [10, 5, 3, 8, 2, 6, 4, 7, 9, 1]\n",
        "        self.assertEqual(bubble_sort(nums), [1, 2, 3, 4, 5, 6, 7, 8, 9, 10])\n",
        "\n",
        "\n",
        "unittest.main(argv=['first-arg-is-ignored'], exit=False)"
      ],
      "execution_count": 37,
      "outputs": [
        {
          "output_type": "stream",
          "name": "stderr",
          "text": [
            "..\n",
            "----------------------------------------------------------------------\n",
            "Ran 2 tests in 0.003s\n",
            "\n",
            "OK\n"
          ]
        },
        {
          "output_type": "execute_result",
          "data": {
            "text/plain": [
              "<unittest.main.TestProgram at 0x7f0a181df790>"
            ]
          },
          "metadata": {},
          "execution_count": 37
        }
      ]
    },
    {
      "cell_type": "markdown",
      "metadata": {
        "id": "AI_xK6vQAKIJ"
      },
      "source": [
        "## Insert Sort\n",
        "\n",
        "Essa ordenação funciona como a ordenação de cartas de um baralho. A lista é dividida virtualmente em uma lista ordenada e outra desordenada. Valores da parte desordenada são selecionadas e colocadas na posição correta da lista ordenada.\n",
        "\n",
        "- A complexidade de tempo no melhor caso, a lista já estando ordenada é O(n). Mas na média e o pior caso são O(n^2).\n",
        "- A complexidade de espaço é constante O(1), não é criado nenhum item adicional.\n",
        "\n",
        "Só vale a pena utilizar o Insertion Sort ao invés do quick sort ou merge sort, caso a lista já esteja bem ordenada, ou faltando pouco para ficar ordenada."
      ]
    },
    {
      "cell_type": "code",
      "metadata": {
        "id": "AnwiNH4Ayvq6"
      },
      "source": [
        "def insertion_sort(nums):\n",
        "    for i in range(1, len(nums)):\n",
        "        element = nums[i]\n",
        "        j = i - 1\n",
        "        while j >= 0 and element < nums[j]:\n",
        "            nums[j + 1] = nums[j]\n",
        "            j -= 1\n",
        "        nums[j + 1] = element"
      ],
      "execution_count": 35,
      "outputs": []
    },
    {
      "cell_type": "code",
      "metadata": {
        "colab": {
          "base_uri": "https://localhost:8080/"
        },
        "id": "HpuB-p3XJNy4",
        "outputId": "eda731ba-08b1-4a8d-ceba-4509af57ecd3"
      },
      "source": [
        "import unittest\n",
        "\n",
        "class TestInsertionSort(unittest.TestCase):\n",
        "\n",
        "    def test_insertion_sort(self):\n",
        "        nums = [10, 5, 3, 8, 2, 6, 4, 7, 9, 1]\n",
        "        insertion_sort(nums)\n",
        "        self.assertEqual(nums, [1, 2, 3, 4, 5, 6, 7, 8, 9, 10])\n",
        "\n",
        "\n",
        "unittest.main(argv=['first-arg-is-ignored'], exit=False)"
      ],
      "execution_count": 36,
      "outputs": [
        {
          "output_type": "stream",
          "name": "stderr",
          "text": [
            "..\n",
            "----------------------------------------------------------------------\n",
            "Ran 2 tests in 0.068s\n",
            "\n",
            "OK\n"
          ]
        },
        {
          "output_type": "execute_result",
          "data": {
            "text/plain": [
              "<unittest.main.TestProgram at 0x7f0a181ea990>"
            ]
          },
          "metadata": {},
          "execution_count": 36
        }
      ]
    }
  ]
}